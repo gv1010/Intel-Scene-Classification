{
  "nbformat": 4,
  "nbformat_minor": 0,
  "metadata": {
    "colab": {
      "name": "Intel Scene.ipynb",
      "provenance": [],
      "collapsed_sections": []
    },
    "kernelspec": {
      "name": "python3",
      "display_name": "Python 3"
    },
    "accelerator": "GPU"
  },
  "cells": [
    {
      "cell_type": "code",
      "metadata": {
        "id": "y5ANFf4e-wKL"
      },
      "source": [
        "import numpy as np\n",
        "import torch\n",
        "from torch.autograd import Variable\n",
        "import matplotlib.pyplot as plt\n",
        "from torchvision import datasets,transforms,models\n"
      ],
      "execution_count": null,
      "outputs": []
    },
    {
      "cell_type": "code",
      "metadata": {
        "id": "Ybrc9rMedzay",
        "outputId": "b11a822b-a498-4d86-beb8-b4a79965e36b",
        "colab": {
          "base_uri": "https://localhost:8080/",
          "height": 119
        }
      },
      "source": [
        "!pip3 install torchvision"
      ],
      "execution_count": null,
      "outputs": [
        {
          "output_type": "stream",
          "text": [
            "Requirement already satisfied: torchvision in /usr/local/lib/python3.6/dist-packages (0.2.2.post3)\n",
            "Requirement already satisfied: numpy in /usr/local/lib/python3.6/dist-packages (from torchvision) (1.14.6)\n",
            "Requirement already satisfied: pillow>=4.1.1 in /usr/local/lib/python3.6/dist-packages (from torchvision) (4.1.1)\n",
            "Requirement already satisfied: six in /usr/local/lib/python3.6/dist-packages (from torchvision) (1.11.0)\n",
            "Requirement already satisfied: torch in /usr/local/lib/python3.6/dist-packages (from torchvision) (1.0.1.post2)\n",
            "Requirement already satisfied: olefile in /usr/local/lib/python3.6/dist-packages (from pillow>=4.1.1->torchvision) (0.46)\n"
          ],
          "name": "stdout"
        }
      ]
    },
    {
      "cell_type": "code",
      "metadata": {
        "id": "22aVt1Ffc05m",
        "outputId": "72867610-c7f6-4507-8363-52bff06336ac",
        "colab": {
          "base_uri": "https://localhost:8080/",
          "height": 51
        }
      },
      "source": [
        "!ls"
      ],
      "execution_count": null,
      "outputs": [
        {
          "output_type": "stream",
          "text": [
            " model_resnet50.pth   sample_data  'train-scene classification.zip'\n",
            " resnet50.csv\t      train.csv    'vgg19 - vgg19.csv'\n"
          ],
          "name": "stdout"
        }
      ]
    },
    {
      "cell_type": "code",
      "metadata": {
        "id": "9Z2LRF83Zx6Q"
      },
      "source": [
        "%rm -rf test\n",
        "%rm -rf root\n",
        "%rm -rf train"
      ],
      "execution_count": null,
      "outputs": []
    },
    {
      "cell_type": "code",
      "metadata": {
        "id": "p25Ss9cp_Tae",
        "outputId": "df561454-33a8-4868-b6d8-95eaa8888f36",
        "colab": {
          "base_uri": "https://localhost:8080/",
          "height": 224
        }
      },
      "source": [
        "!wget --header=\"Host: doc-14-3g-docs.googleusercontent.com\" --header=\"User-Agent: Mozilla/5.0 (Windows NT 10.0; Win64; x64) AppleWebKit/537.36 (KHTML, like Gecko) Chrome/72.0.3626.121 Safari/537.36\" --header=\"Accept: text/html,application/xhtml+xml,application/xml;q=0.9,image/webp,image/apng,*/*;q=0.8\" --header=\"Accept-Language: en-US,en;q=0.9\" --header=\"Referer: https://drive.google.com/uc?id=10qN7OUzTutCg8ruwFosml0xzi0elsI5N&export=download\" --header=\"Cookie: AUTH_phlou141ijqp0pd4purho3qub2qmep4f=17793030815577614369|1554004800000|r1gc336443kc653mmgm0c3ji7ekeqcs3\" --header=\"Connection: keep-alive\" \"https://doc-14-3g-docs.googleusercontent.com/docs/securesc/i84cjh6drqtrjag098cklnqcercgij0u/fskhqfiskm0gfk18lnbe8ua6b8d4ia57/1554004800000/15249538500823033517/17793030815577614369/10qN7OUzTutCg8ruwFosml0xzi0elsI5N?e=download\" -O \"train-scene classification.zip\" -c"
      ],
      "execution_count": null,
      "outputs": [
        {
          "output_type": "stream",
          "text": [
            "--2019-03-31 04:22:23--  https://doc-14-3g-docs.googleusercontent.com/docs/securesc/i84cjh6drqtrjag098cklnqcercgij0u/fskhqfiskm0gfk18lnbe8ua6b8d4ia57/1554004800000/15249538500823033517/17793030815577614369/10qN7OUzTutCg8ruwFosml0xzi0elsI5N?e=download\n",
            "Resolving doc-14-3g-docs.googleusercontent.com (doc-14-3g-docs.googleusercontent.com)... 74.125.202.132, 2607:f8b0:4001:c06::84\n",
            "Connecting to doc-14-3g-docs.googleusercontent.com (doc-14-3g-docs.googleusercontent.com)|74.125.202.132|:443... connected.\n",
            "HTTP request sent, awaiting response... 200 OK\n",
            "Length: unspecified [application/x-zip-compressed]\n",
            "Saving to: ‘train-scene classification.zip’\n",
            "\n",
            "train-scene classif     [             <=>    ] 359.11M   105MB/s    in 3.4s    \n",
            "\n",
            "2019-03-31 04:22:27 (105 MB/s) - ‘train-scene classification.zip’ saved [376553787]\n",
            "\n"
          ],
          "name": "stdout"
        }
      ]
    },
    {
      "cell_type": "code",
      "metadata": {
        "id": "4lGR_Mm7EjN-",
        "outputId": "e5810806-54c2-4596-a82e-8694b98736ce",
        "colab": {
          "base_uri": "https://localhost:8080/",
          "height": 51
        }
      },
      "source": [
        "%mkdir test\n",
        "%cd test\n",
        "%mkdir 0\n",
        "%mkdir 1\n",
        "%mkdir 2\n",
        "%mkdir 3\n",
        "%mkdir 4\n",
        "%mkdir 5\n",
        "%cd .."
      ],
      "execution_count": null,
      "outputs": [
        {
          "output_type": "stream",
          "text": [
            "/content/test\n",
            "/content\n"
          ],
          "name": "stdout"
        }
      ]
    },
    {
      "cell_type": "code",
      "metadata": {
        "id": "NkdYqCrWEhGi",
        "outputId": "e5d50b07-2710-49f0-de03-6137b7f6d0bf",
        "colab": {
          "base_uri": "https://localhost:8080/",
          "height": 51
        }
      },
      "source": [
        "%mkdir root\n",
        "%cd root\n",
        "%mkdir 0\n",
        "%mkdir 1\n",
        "%mkdir 2\n",
        "%mkdir 3\n",
        "%mkdir 4\n",
        "%mkdir 5\n",
        "%cd .."
      ],
      "execution_count": null,
      "outputs": [
        {
          "output_type": "stream",
          "text": [
            "/content/root\n",
            "/content\n"
          ],
          "name": "stdout"
        }
      ]
    },
    {
      "cell_type": "code",
      "metadata": {
        "id": "ARU4X1OH-wKT",
        "outputId": "716c69c4-3cc9-4607-f03c-efdd7a1d6822",
        "colab": {
          "base_uri": "https://localhost:8080/",
          "height": 34
        }
      },
      "source": [
        "from zipfile import ZipFile \n",
        "  \n",
        "# specifying the zip file name \n",
        "file_name = \"train-scene classification.zip\"\n",
        "  \n",
        "# opening the zip file in READ mode \n",
        "with ZipFile(file_name, 'r') as zip: \n",
        "    zip.extractall() \n",
        "    print('Done!') "
      ],
      "execution_count": null,
      "outputs": [
        {
          "output_type": "stream",
          "text": [
            "Done!\n"
          ],
          "name": "stdout"
        }
      ]
    },
    {
      "cell_type": "code",
      "metadata": {
        "id": "WO57i9Y_-wKZ"
      },
      "source": [
        "import pandas as pd\n",
        "images_label = pd.read_csv(\"train.csv\")"
      ],
      "execution_count": null,
      "outputs": []
    },
    {
      "cell_type": "code",
      "metadata": {
        "id": "BU2pta6Y6fb-",
        "outputId": "8e30174b-eb26-4192-88b8-5cb6a77661b2",
        "colab": {
          "base_uri": "https://localhost:8080/",
          "height": 204
        }
      },
      "source": [
        "images_label.head()"
      ],
      "execution_count": null,
      "outputs": [
        {
          "output_type": "execute_result",
          "data": {
            "text/html": [
              "<div>\n",
              "<style scoped>\n",
              "    .dataframe tbody tr th:only-of-type {\n",
              "        vertical-align: middle;\n",
              "    }\n",
              "\n",
              "    .dataframe tbody tr th {\n",
              "        vertical-align: top;\n",
              "    }\n",
              "\n",
              "    .dataframe thead th {\n",
              "        text-align: right;\n",
              "    }\n",
              "</style>\n",
              "<table border=\"1\" class=\"dataframe\">\n",
              "  <thead>\n",
              "    <tr style=\"text-align: right;\">\n",
              "      <th></th>\n",
              "      <th>image_name</th>\n",
              "      <th>label</th>\n",
              "    </tr>\n",
              "  </thead>\n",
              "  <tbody>\n",
              "    <tr>\n",
              "      <th>0</th>\n",
              "      <td>0.jpg</td>\n",
              "      <td>0</td>\n",
              "    </tr>\n",
              "    <tr>\n",
              "      <th>1</th>\n",
              "      <td>1.jpg</td>\n",
              "      <td>4</td>\n",
              "    </tr>\n",
              "    <tr>\n",
              "      <th>2</th>\n",
              "      <td>2.jpg</td>\n",
              "      <td>5</td>\n",
              "    </tr>\n",
              "    <tr>\n",
              "      <th>3</th>\n",
              "      <td>4.jpg</td>\n",
              "      <td>0</td>\n",
              "    </tr>\n",
              "    <tr>\n",
              "      <th>4</th>\n",
              "      <td>7.jpg</td>\n",
              "      <td>4</td>\n",
              "    </tr>\n",
              "  </tbody>\n",
              "</table>\n",
              "</div>"
            ],
            "text/plain": [
              "  image_name  label\n",
              "0      0.jpg      0\n",
              "1      1.jpg      4\n",
              "2      2.jpg      5\n",
              "3      4.jpg      0\n",
              "4      7.jpg      4"
            ]
          },
          "metadata": {
            "tags": []
          },
          "execution_count": 51
        }
      ]
    },
    {
      "cell_type": "code",
      "metadata": {
        "id": "vR8YujQT5uAA",
        "outputId": "7dd2510d-bf91-4c1b-e120-6a1ae0dfd9de",
        "colab": {
          "base_uri": "https://localhost:8080/",
          "height": 34
        }
      },
      "source": [
        "images_label.shape"
      ],
      "execution_count": null,
      "outputs": [
        {
          "output_type": "execute_result",
          "data": {
            "text/plain": [
              "(17034, 2)"
            ]
          },
          "metadata": {
            "tags": []
          },
          "execution_count": 10
        }
      ]
    },
    {
      "cell_type": "code",
      "metadata": {
        "id": "pEi0xBla-wKc"
      },
      "source": [
        "from sklearn.model_selection import train_test_split\n",
        "X_train, X_test, y_train, y_test = train_test_split(images_label[\"image_name\"], images_label[\"label\"], test_size=0.25, random_state=42)\n",
        "#X_train, X_cv, y_train, y_cv = train_test_split(X_train, y_train, test_size=0.20, random_state=42)"
      ],
      "execution_count": null,
      "outputs": []
    },
    {
      "cell_type": "code",
      "metadata": {
        "id": "cANYW4t4AVjj",
        "outputId": "9850f13a-94ca-4231-a32b-b5f133229975",
        "colab": {
          "base_uri": "https://localhost:8080/",
          "height": 221
        }
      },
      "source": [
        "dict_train ={\n",
        "              \"class\": list(y_train), \n",
        "              \"label\": list(X_train)              \n",
        "             }\n",
        "train_df = pd.DataFrame(dict_train)\n",
        "print(len(train_df))\n",
        "train_df.head()\n"
      ],
      "execution_count": null,
      "outputs": [
        {
          "output_type": "stream",
          "text": [
            "12775\n"
          ],
          "name": "stdout"
        },
        {
          "output_type": "execute_result",
          "data": {
            "text/html": [
              "<div>\n",
              "<style scoped>\n",
              "    .dataframe tbody tr th:only-of-type {\n",
              "        vertical-align: middle;\n",
              "    }\n",
              "\n",
              "    .dataframe tbody tr th {\n",
              "        vertical-align: top;\n",
              "    }\n",
              "\n",
              "    .dataframe thead th {\n",
              "        text-align: right;\n",
              "    }\n",
              "</style>\n",
              "<table border=\"1\" class=\"dataframe\">\n",
              "  <thead>\n",
              "    <tr style=\"text-align: right;\">\n",
              "      <th></th>\n",
              "      <th>class</th>\n",
              "      <th>label</th>\n",
              "    </tr>\n",
              "  </thead>\n",
              "  <tbody>\n",
              "    <tr>\n",
              "      <th>0</th>\n",
              "      <td>3</td>\n",
              "      <td>9896.jpg</td>\n",
              "    </tr>\n",
              "    <tr>\n",
              "      <th>1</th>\n",
              "      <td>2</td>\n",
              "      <td>7096.jpg</td>\n",
              "    </tr>\n",
              "    <tr>\n",
              "      <th>2</th>\n",
              "      <td>0</td>\n",
              "      <td>15962.jpg</td>\n",
              "    </tr>\n",
              "    <tr>\n",
              "      <th>3</th>\n",
              "      <td>3</td>\n",
              "      <td>1996.jpg</td>\n",
              "    </tr>\n",
              "    <tr>\n",
              "      <th>4</th>\n",
              "      <td>1</td>\n",
              "      <td>13351.jpg</td>\n",
              "    </tr>\n",
              "  </tbody>\n",
              "</table>\n",
              "</div>"
            ],
            "text/plain": [
              "   class      label\n",
              "0      3   9896.jpg\n",
              "1      2   7096.jpg\n",
              "2      0  15962.jpg\n",
              "3      3   1996.jpg\n",
              "4      1  13351.jpg"
            ]
          },
          "metadata": {
            "tags": []
          },
          "execution_count": 53
        }
      ]
    },
    {
      "cell_type": "code",
      "metadata": {
        "id": "LWm4RjGU_vxC",
        "outputId": "08ae8c3c-4404-4026-bf21-08c9acbc4a35",
        "colab": {
          "base_uri": "https://localhost:8080/",
          "height": 221
        }
      },
      "source": [
        "dict_test = {\n",
        "            \"label\":list(X_test),\n",
        "             \"class\":list(y_test)\n",
        "    }\n",
        "\n",
        "test_df = pd.DataFrame(dict_test)\n",
        "print(len(test_df))\n",
        "test_df.head()"
      ],
      "execution_count": null,
      "outputs": [
        {
          "output_type": "stream",
          "text": [
            "4259\n"
          ],
          "name": "stdout"
        },
        {
          "output_type": "execute_result",
          "data": {
            "text/html": [
              "<div>\n",
              "<style scoped>\n",
              "    .dataframe tbody tr th:only-of-type {\n",
              "        vertical-align: middle;\n",
              "    }\n",
              "\n",
              "    .dataframe tbody tr th {\n",
              "        vertical-align: top;\n",
              "    }\n",
              "\n",
              "    .dataframe thead th {\n",
              "        text-align: right;\n",
              "    }\n",
              "</style>\n",
              "<table border=\"1\" class=\"dataframe\">\n",
              "  <thead>\n",
              "    <tr style=\"text-align: right;\">\n",
              "      <th></th>\n",
              "      <th>class</th>\n",
              "      <th>label</th>\n",
              "    </tr>\n",
              "  </thead>\n",
              "  <tbody>\n",
              "    <tr>\n",
              "      <th>0</th>\n",
              "      <td>2</td>\n",
              "      <td>16451.jpg</td>\n",
              "    </tr>\n",
              "    <tr>\n",
              "      <th>1</th>\n",
              "      <td>0</td>\n",
              "      <td>9117.jpg</td>\n",
              "    </tr>\n",
              "    <tr>\n",
              "      <th>2</th>\n",
              "      <td>0</td>\n",
              "      <td>14885.jpg</td>\n",
              "    </tr>\n",
              "    <tr>\n",
              "      <th>3</th>\n",
              "      <td>0</td>\n",
              "      <td>3067.jpg</td>\n",
              "    </tr>\n",
              "    <tr>\n",
              "      <th>4</th>\n",
              "      <td>1</td>\n",
              "      <td>5323.jpg</td>\n",
              "    </tr>\n",
              "  </tbody>\n",
              "</table>\n",
              "</div>"
            ],
            "text/plain": [
              "   class      label\n",
              "0      2  16451.jpg\n",
              "1      0   9117.jpg\n",
              "2      0  14885.jpg\n",
              "3      0   3067.jpg\n",
              "4      1   5323.jpg"
            ]
          },
          "metadata": {
            "tags": []
          },
          "execution_count": 54
        }
      ]
    },
    {
      "cell_type": "code",
      "metadata": {
        "id": "gyrtFD5K-wKf"
      },
      "source": [
        "class_0 = train_df[train_df[\"class\"] == 0]\n",
        "class_1 = train_df[train_df[\"class\"] == 1]\n",
        "class_2 = train_df[train_df[\"class\"] == 2]\n",
        "class_3 = train_df[train_df[\"class\"] == 3]\n",
        "class_4 = train_df[train_df[\"class\"] == 4]\n",
        "class_5 = train_df[train_df[\"class\"] == 5]\n"
      ],
      "execution_count": null,
      "outputs": []
    },
    {
      "cell_type": "code",
      "metadata": {
        "id": "g8pP-HVHPaUM"
      },
      "source": [
        "class_0_test = test_df[test_df[\"class\"] == 0]\n",
        "class_1_test = test_df[test_df[\"class\"] == 1]\n",
        "class_2_test = test_df[test_df[\"class\"] == 2]\n",
        "class_3_test = test_df[test_df[\"class\"] == 3]\n",
        "class_4_test = test_df[test_df[\"class\"] == 4]\n",
        "class_5_test = test_df[test_df[\"class\"] == 5]"
      ],
      "execution_count": null,
      "outputs": []
    },
    {
      "cell_type": "code",
      "metadata": {
        "id": "3N3o8oVkHbFG",
        "outputId": "6af35c73-6841-4f03-f13a-3eff1984f372",
        "colab": {
          "base_uri": "https://localhost:8080/",
          "height": 51
        }
      },
      "source": [
        "%ls"
      ],
      "execution_count": null,
      "outputs": [
        {
          "output_type": "stream",
          "text": [
            " \u001b[0m\u001b[01;34mroot\u001b[0m/          \u001b[01;34mtest\u001b[0m/    train.csv                        'vgg19 - vgg19.csv'\n",
            " \u001b[01;34msample_data\u001b[0m/   \u001b[01;34mtrain\u001b[0m/  'train-scene classification.zip'\n"
          ],
          "name": "stdout"
        }
      ]
    },
    {
      "cell_type": "code",
      "metadata": {
        "id": "YDAEXbg8HI3B"
      },
      "source": [
        "#train\n",
        "import shutil \n",
        "import os \n",
        "for file in os.listdir(\"train\"):\n",
        "    if file.title().lower() in list(class_0_test[\"label\"]):\n",
        "      src_dir = \"train/\" + file.title().lower()\n",
        "      dst_dir = \"test/0/\"\n",
        "      shutil.move(src_dir,dst_dir)\n",
        "    elif file.title().lower() in list(class_1_test[\"label\"]):\n",
        "      src_dir = \"train/\" + file.title().lower()\n",
        "      dst_dir = \"test/1/\"\n",
        "      shutil.move(src_dir,dst_dir)\n",
        "    elif file.title().lower() in list(class_2_test[\"label\"]):\n",
        "      src_dir = \"train/\" + file.title().lower()\n",
        "      dst_dir = \"test/2/\"\n",
        "      shutil.move(src_dir,dst_dir)\n",
        "    elif file.title().lower() in list(class_3_test[\"label\"]):\n",
        "      src_dir = \"train/\" + file.title().lower()\n",
        "      dst_dir = \"test/3/\"\n",
        "      shutil.move(src_dir,dst_dir)\n",
        "    elif file.title().lower() in list(class_4_test[\"label\"]):\n",
        "      src_dir = \"train/\" + file.title().lower()\n",
        "      dst_dir = \"test/4/\"\n",
        "      shutil.move(src_dir,dst_dir)\n",
        "    elif file.title().lower() in list(class_5_test[\"label\"]):\n",
        "      src_dir = \"train/\" + file.title().lower()\n",
        "      dst_dir = \"test/5/\"\n",
        "      shutil.move(src_dir,dst_dir)"
      ],
      "execution_count": null,
      "outputs": []
    },
    {
      "cell_type": "code",
      "metadata": {
        "id": "7qd4i8vgBXXr"
      },
      "source": [
        "#train\n",
        "import shutil \n",
        "import os \n",
        "for file in os.listdir(\"train\"):\n",
        "    if file.title().lower() in list(class_0[\"label\"]):\n",
        "      src_dir = \"train/\" + file.title().lower()\n",
        "      dst_dir = \"root/0/\"\n",
        "      shutil.move(src_dir,dst_dir)\n",
        "    elif file.title().lower() in list(class_1[\"label\"]):\n",
        "      src_dir = \"train/\" + file.title().lower()\n",
        "      dst_dir = \"root/1/\"\n",
        "      shutil.move(src_dir,dst_dir)\n",
        "    elif file.title().lower() in list(class_2[\"label\"]):\n",
        "      src_dir = \"train/\" + file.title().lower()\n",
        "      dst_dir = \"root/2/\"\n",
        "      shutil.move(src_dir,dst_dir)\n",
        "    elif file.title().lower() in list(class_3[\"label\"]):\n",
        "      src_dir = \"train/\" + file.title().lower()\n",
        "      dst_dir = \"root/3/\"\n",
        "      shutil.move(src_dir,dst_dir)\n",
        "    elif file.title().lower() in list(class_4[\"label\"]):\n",
        "      src_dir = \"train/\" + file.title().lower()\n",
        "      dst_dir = \"root/4/\"\n",
        "      shutil.move(src_dir,dst_dir)\n",
        "    elif file.title().lower() in list(class_5[\"label\"]):\n",
        "      src_dir = \"train/\" + file.title().lower()\n",
        "      dst_dir = \"root/5/\"\n",
        "      shutil.move(src_dir,dst_dir)"
      ],
      "execution_count": null,
      "outputs": []
    },
    {
      "cell_type": "code",
      "metadata": {
        "id": "91hVNjjoKdMC"
      },
      "source": [
        "class_dict = { 'buildings' : 0,     'forest' : 1,     'glacier' : 2,     'mountain' : 3,     'sea' : 4,     'street' : 5 }"
      ],
      "execution_count": null,
      "outputs": []
    },
    {
      "cell_type": "code",
      "metadata": {
        "id": "nGr1tMONURB3",
        "outputId": "9953ae4d-c71e-4a7a-808c-bdd9716f9823",
        "colab": {
          "base_uri": "https://localhost:8080/",
          "height": 51
        }
      },
      "source": [
        "%ls"
      ],
      "execution_count": null,
      "outputs": [
        {
          "output_type": "stream",
          "text": [
            " \u001b[0m\u001b[01;34mroot\u001b[0m/          \u001b[01;34mtest\u001b[0m/    train.csv                        'vgg19 - vgg19.csv'\n",
            " \u001b[01;34msample_data\u001b[0m/   \u001b[01;34mtrain\u001b[0m/  'train-scene classification.zip'\n"
          ],
          "name": "stdout"
        }
      ]
    },
    {
      "cell_type": "code",
      "metadata": {
        "id": "clfTAIIT-wKj",
        "outputId": "2f3c15a4-17a7-4d95-a5fd-e2702f936095",
        "colab": {
          "base_uri": "https://localhost:8080/",
          "height": 379
        }
      },
      "source": [
        "#plt.plot(images_label.hist())\n",
        "images_label.hist()\n",
        "plt.show()\n",
        "print(\"Data seems balanced\")"
      ],
      "execution_count": null,
      "outputs": [
        {
          "output_type": "display_data",
          "data": {
            "image/png": "[encoded data removed]",
            "text/plain": [
              "<Figure size 576x396 with 1 Axes>"
            ]
          },
          "metadata": {
            "tags": []
          }
        },
        {
          "output_type": "stream",
          "text": [
            "Data seems balanced\n"
          ],
          "name": "stdout"
        }
      ]
    },
    {
      "cell_type": "code",
      "metadata": {
        "id": "5NvNcYxH-wLW",
        "outputId": "1995b78a-78a3-4ded-ab8a-5b056f46c0af",
        "colab": {
          "base_uri": "https://localhost:8080/",
          "height": 54
        }
      },
      "source": [
        "\"\"\"transforms.Compose([transforms.RandomResizedCrop(size=256, scale=(0.8, 1.0)),transforms.RandomRotation(degrees=15),\n",
        "        transforms.ColorJitter(), transforms.RandomHorizontalFlip(), transforms.CenterCrop(size=224),transforms.ToTensor()\n",
        "    ])\"\"\""
      ],
      "execution_count": null,
      "outputs": [
        {
          "output_type": "execute_result",
          "data": {
            "text/plain": [
              "'transforms.Compose([transforms.RandomResizedCrop(size=256, scale=(0.8, 1.0)),transforms.RandomRotation(degrees=15),\\n        transforms.ColorJitter(), transforms.RandomHorizontalFlip(), transforms.CenterCrop(size=224),transforms.ToTensor()\\n    ])'"
            ]
          },
          "metadata": {
            "tags": []
          },
          "execution_count": 23
        }
      ]
    },
    {
      "cell_type": "code",
      "metadata": {
        "id": "4dbsIMvK-wLd",
        "outputId": "854a3e6a-014f-4c30-cade-563b8199f5ed",
        "colab": {
          "base_uri": "https://localhost:8080/",
          "height": 54
        }
      },
      "source": [
        "\"\"\"train_transforms = transforms.Compose([transforms.RandomResizedCrop(size=256, scale=(0.8, 1.0)),transforms.RandomRotation(degrees=15),\n",
        "        transforms.ColorJitter(), transforms.RandomHorizontalFlip(), transforms.CenterCrop(size=224),transforms.ToTensor()\n",
        "    ])\n",
        "test_transforms = transforms.Compose([transforms.Resize(size=(224,224)),transforms.ToTensor()])\n",
        "train_dataset = datasets.ImageFolder(\"root/\",transform=train_transforms)\n",
        "test_dataset = datasets.ImageFolder(\"test/\",transform=test_transforms)\n",
        "train_data = torch.utils.data.DataLoader(train_dataset,batch_size=64,shuffle=True)\n",
        "test_data = torch.utils.data.DataLoader(test_dataset,batch_size=64,shuffle=True)\"\"\""
      ],
      "execution_count": null,
      "outputs": [
        {
          "output_type": "execute_result",
          "data": {
            "text/plain": [
              "'train_transforms = transforms.Compose([transforms.RandomResizedCrop(size=256, scale=(0.8, 1.0)),transforms.RandomRotation(degrees=15),\\n        transforms.ColorJitter(), transforms.RandomHorizontalFlip(), transforms.CenterCrop(size=224),transforms.ToTensor()\\n    ])\\ntest_transforms = transforms.Compose([transforms.Resize(size=(224,224)),transforms.ToTensor()])\\ntrain_dataset = datasets.ImageFolder(\"root/\",transform=train_transforms)\\ntest_dataset = datasets.ImageFolder(\"test/\",transform=test_transforms)\\ntrain_data = torch.utils.data.DataLoader(train_dataset,batch_size=64,shuffle=True)\\ntest_data = torch.utils.data.DataLoader(test_dataset,batch_size=64,shuffle=True)'"
            ]
          },
          "metadata": {
            "tags": []
          },
          "execution_count": 24
        }
      ]
    },
    {
      "cell_type": "code",
      "metadata": {
        "id": "EZKdqKAkUGQc"
      },
      "source": [
        "train_transforms = transforms.Compose([transforms.Resize(size=(224,224)), transforms.ToTensor()])\n",
        "test_transforms = transforms.Compose([transforms.Resize(size=(224,224)),transforms.ToTensor()])\n",
        "train_dataset = datasets.ImageFolder(\"root/\",transform=train_transforms)\n",
        "test_dataset = datasets.ImageFolder(\"test/\",transform=test_transforms)\n",
        "train_data = torch.utils.data.DataLoader(train_dataset,batch_size=128,shuffle=True)\n",
        "test_data = torch.utils.data.DataLoader(test_dataset,batch_size=128,shuffle=True)"
      ],
      "execution_count": null,
      "outputs": []
    },
    {
      "cell_type": "code",
      "metadata": {
        "id": "3NmfMhAQ-wLf",
        "outputId": "e3bfab0d-a622-4f7e-c099-3f3a84e701d9",
        "colab": {
          "base_uri": "https://localhost:8080/",
          "height": 54
        }
      },
      "source": [
        "\"\"\"\n",
        "sub_transform = transforms.Compose([transforms.Resize(size=(224,224)),transforms.ToTensor()])\n",
        "sub_dataset = datasets.ImageFolder(\"train/\",transform=sub_transform)\n",
        "sub_data = torch.utils.data.DataLoader(sub_dataset,batch_size=128,shuffle=True)\"\"\""
      ],
      "execution_count": null,
      "outputs": [
        {
          "output_type": "execute_result",
          "data": {
            "text/plain": [
              "'\\nsub_transform = transforms.Compose([transforms.Resize(size=(224,224)),transforms.ToTensor()])\\nsub_dataset = datasets.ImageFolder(\"train/\",transform=sub_transform)\\nsub_data = torch.utils.data.DataLoader(sub_dataset,batch_size=128,shuffle=True)'"
            ]
          },
          "metadata": {
            "tags": []
          },
          "execution_count": 26
        }
      ]
    },
    {
      "cell_type": "markdown",
      "metadata": {
        "id": "AabE6q_RaNF3"
      },
      "source": [
        ""
      ]
    },
    {
      "cell_type": "code",
      "metadata": {
        "id": "z2oY0HmXmbyZ",
        "outputId": "88cb9235-8bee-4508-b327-549b77a046b9",
        "colab": {
          "base_uri": "https://localhost:8080/",
          "height": 54
        }
      },
      "source": [
        "\"\"\"\n",
        "import torch.nn as nn\n",
        "import torch.optim as optim\"\"\"\n",
        "\"\"\"model = models.resnet50(pretrained=True)\n",
        "for param in model.parameters():\n",
        "    param.requires_grad = False\n",
        "classifier = nn.Sequential(nn.Dropout(0.5),\n",
        "                           nn.Linear(2048,6),\n",
        "                           nn.ReLU(),\n",
        "                           nn.LogSoftmax(dim=1))\n",
        "model.fc = classifier\n",
        "criterion = nn.NLLLoss()\n",
        "optimizer = optim.Adadelta(model.fc.parameters(), lr=0.03)\n",
        "model.to(device)\"\"\"\n"
      ],
      "execution_count": null,
      "outputs": [
        {
          "output_type": "execute_result",
          "data": {
            "text/plain": [
              "'model = models.resnet50(pretrained=True)\\nfor param in model.parameters():\\n    param.requires_grad = False\\nclassifier = nn.Sequential(nn.Dropout(0.5),\\n                           nn.Linear(2048,6),\\n                           nn.ReLU(),\\n                           nn.LogSoftmax(dim=1))\\nmodel.fc = classifier\\ncriterion = nn.NLLLoss()\\noptimizer = optim.Adadelta(model.fc.parameters(), lr=0.03)\\nmodel.to(device)'"
            ]
          },
          "metadata": {
            "tags": []
          },
          "execution_count": 27
        }
      ]
    },
    {
      "cell_type": "code",
      "metadata": {
        "id": "bFk5Anfdarx_",
        "outputId": "2995c53e-889c-47aa-b705-45ad23816e4c",
        "colab": {
          "base_uri": "https://localhost:8080/",
          "height": 54
        }
      },
      "source": [
        "\"\"\"import torch\n",
        "import torch.nn as nn\n",
        "device = torch.device(\"cuda\" if torch.cuda.is_available() else \"cpu\")\n",
        "import torch.optim as optim\n",
        "model = models.resnet34(pretrained=True)\n",
        "for param in model.parameters():\n",
        "    param.requires_grad = False\n",
        "classifier = nn.Sequential(nn.Dropout(0.5),\n",
        "                           nn.Linear(2048,1024),\n",
        "                           nn.ReLU(),\n",
        "                           nn.Dropout(0.3),\n",
        "                           nn.Linear(1024,512),\n",
        "                           nn.ReLU(),\n",
        "                           nn.Dropout(0.3),\n",
        "                           nn.Linear(512,256),\n",
        "                           nn.ReLU(),\n",
        "                           nn.Dropout(0.3),\n",
        "                           nn.Linear(256,128),\n",
        "                           nn.ReLU(),\n",
        "                           nn.Dropout(0.1),\n",
        "                           nn.Linear(128,64),\n",
        "                           nn.ReLU(),\n",
        "                           nn.Dropout(0.1),\n",
        "                           nn.Linear(64,6),\n",
        "                           nn.ReLU(),\n",
        "                           nn.LogSoftmax(dim=1))\n",
        "model.fc = classifier\n",
        "criterion = nn.NLLLoss()\n",
        "optimizer = optim.Adadelta(model.fc.parameters(), lr=0.03)\n",
        "model.to(device)\n",
        "\"\"\""
      ],
      "execution_count": null,
      "outputs": [
        {
          "output_type": "execute_result",
          "data": {
            "text/plain": [
              "'import torch\\nimport torch.nn as nn\\ndevice = torch.device(\"cuda\" if torch.cuda.is_available() else \"cpu\")\\nimport torch.optim as optim\\nmodel = models.resnet34(pretrained=True)\\nfor param in model.parameters():\\n    param.requires_grad = False\\nclassifier = nn.Sequential(nn.Dropout(0.5),\\n                           nn.Linear(2048,1024),\\n                           nn.ReLU(),\\n                           nn.Dropout(0.3),\\n                           nn.Linear(1024,512),\\n                           nn.ReLU(),\\n                           nn.Dropout(0.3),\\n                           nn.Linear(512,256),\\n                           nn.ReLU(),\\n                           nn.Dropout(0.3),\\n                           nn.Linear(256,128),\\n                           nn.ReLU(),\\n                           nn.Dropout(0.1),\\n                           nn.Linear(128,64),\\n                           nn.ReLU(),\\n                           nn.Dropout(0.1),\\n                           nn.Linear(64,6),\\n                           nn.ReLU(),\\n                           nn.LogSoftmax(dim=1))\\nmodel.fc = classifier\\ncriterion = nn.NLLLoss()\\noptimizer = optim.Adadelta(model.fc.parameters(), lr=0.03)\\nmodel.to(device)\\n'"
            ]
          },
          "metadata": {
            "tags": []
          },
          "execution_count": 28
        }
      ]
    },
    {
      "cell_type": "code",
      "metadata": {
        "id": "NV9DsMUCX4ot",
        "outputId": "1e3e6015-b55e-427a-a7cd-d59f9a158dbe",
        "colab": {
          "base_uri": "https://localhost:8080/",
          "height": 54
        }
      },
      "source": [
        "\"\"\"device = torch.device(\"cuda\" if torch.cuda.is_available() else \"cpu\")\n",
        "import torch.nn as nn\n",
        "import torch.optim as optim\n",
        "model = models.resnet34(pretrained=True)\n",
        "for param in model.parameters():\n",
        "    param.requires_grad = False\n",
        "classifier = nn.Sequential(nn.Linear(512,256),\n",
        "                           nn.ReLU(),\n",
        "                           nn.Dropout(0.2),\n",
        "                           nn.Linear(256,128),\n",
        "                           nn.ReLU(),\n",
        "                           nn.Linear(128,64),\n",
        "                           nn.ReLU(),\n",
        "                           nn.Dropout(0.1),\n",
        "                           nn.Linear(64,6),\n",
        "                           nn.ReLU(),\n",
        "                           nn.LogSoftmax(dim=1))\n",
        "model.fc = classifier\n",
        "criterion = nn.NLLLoss()\n",
        "optimizer = optim.Adadelta(model.fc.parameters(), lr=0.03)\n",
        "model.to(device)\n",
        "\"\"\""
      ],
      "execution_count": null,
      "outputs": [
        {
          "output_type": "execute_result",
          "data": {
            "text/plain": [
              "'device = torch.device(\"cuda\" if torch.cuda.is_available() else \"cpu\")\\nimport torch.nn as nn\\nimport torch.optim as optim\\nmodel = models.resnet34(pretrained=True)\\nfor param in model.parameters():\\n    param.requires_grad = False\\nclassifier = nn.Sequential(nn.Linear(512,256),\\n                           nn.ReLU(),\\n                           nn.Dropout(0.2),\\n                           nn.Linear(256,128),\\n                           nn.ReLU(),\\n                           nn.Linear(128,64),\\n                           nn.ReLU(),\\n                           nn.Dropout(0.1),\\n                           nn.Linear(64,6),\\n                           nn.ReLU(),\\n                           nn.LogSoftmax(dim=1))\\nmodel.fc = classifier\\ncriterion = nn.NLLLoss()\\noptimizer = optim.Adadelta(model.fc.parameters(), lr=0.03)\\nmodel.to(device)\\n'"
            ]
          },
          "metadata": {
            "tags": []
          },
          "execution_count": 1
        }
      ]
    },
    {
      "cell_type": "code",
      "metadata": {
        "id": "9JR6qnvNxjvV"
      },
      "source": [
        "\"\"\"\"device = torch.device(\"cuda\" if torch.cuda.is_available() else \"cpu\")\n",
        "import torch.nn as nn\n",
        "import torch.optim as optim\n",
        "model = models.resnet18(pretrained=True)\n",
        "for param in model.parameters():\n",
        "    param.requires_grad = False\n",
        "classifier = nn.Sequential(nn.Linear(512,256),\n",
        "                           nn.ReLU(),\n",
        "                           nn.Dropout(0.3),\n",
        "                           nn.Linear(256,32),\n",
        "                           nn.ReLU(),\n",
        "                           nn.Dropout(0.3),\n",
        "                           nn.Linear(32,6),\n",
        "                           nn.ReLU(),\n",
        "                           nn.LogSoftmax(dim=1))\n",
        "\n",
        "classifier\n",
        "model.fc = classifier\n",
        "torch.nn.init.xavier_normal_(model.fc[0].weight)\n",
        "torch.nn.init.xavier_normal_(model.fc[3].weight)\n",
        "torch.nn.init.xavier_normal_(model.fc[6].weight)\n",
        "criterion = nn.CrossEntropyLoss()\n",
        "optimizer = optim.Adadelta(model.fc.parameters(), lr=0.09)\n",
        "model.to(device)\"\"\"\""
      ],
      "execution_count": null,
      "outputs": []
    },
    {
      "cell_type": "code",
      "metadata": {
        "id": "mUupfZtBNFpK",
        "outputId": "d8e2dc05-8de6-46e0-dadf-21c79603556a",
        "colab": {
          "base_uri": "https://localhost:8080/",
          "height": 34
        }
      },
      "source": [
        "print(torch.__version__)"
      ],
      "execution_count": null,
      "outputs": [
        {
          "output_type": "stream",
          "text": [
            "1.0.1.post2\n"
          ],
          "name": "stdout"
        }
      ]
    },
    {
      "cell_type": "code",
      "metadata": {
        "id": "6bG0hvG7i4cH",
        "outputId": "5d493be5-0c3e-41c7-faac-16addab5839f",
        "colab": {
          "base_uri": "https://localhost:8080/",
          "height": 1513
        }
      },
      "source": [
        "device = torch.device(\"cuda\" if torch.cuda.is_available() else \"cpu\")\n",
        "import torch.nn as nn\n",
        "import torch.optim as optim\n",
        "model = models.resnet18(pretrained=True)\n",
        "for param in model.parameters():\n",
        "    param.requires_grad = False\n",
        "\n",
        "\n",
        "\n",
        "#model.classifier[6] = nn.Sequential(nn.Linear(4096,6),nn.LeakyReLU(),nn.LogSoftmax(dim=1))\n",
        "model.fc = nn.Sequential(nn.Linear(512,6),nn.LeakyReLU(),nn.LogSoftmax(dim=1))\n",
        "torch.nn.init.orthogonal_(model.fc[0].weight)\n",
        "#torch.nn.init.xavier_normal_(model.fc[3].weight)\n",
        "#torch.nn.init.xavier_normal_(model.fc[6].weight)\n",
        "criterion = nn.CrossEntropyLoss()\n",
        "optimizer = optim.Adadelta(model.fc.parameters(), lr=0.03)\n",
        "model.to(device)\n"
      ],
      "execution_count": null,
      "outputs": [
        {
          "output_type": "execute_result",
          "data": {
            "text/plain": [
              "ResNet(\n",
              "  (conv1): Conv2d(3, 64, kernel_size=(7, 7), stride=(2, 2), padding=(3, 3), bias=False)\n",
              "  (bn1): BatchNorm2d(64, eps=1e-05, momentum=0.1, affine=True, track_running_stats=True)\n",
              "  (relu): ReLU(inplace)\n",
              "  (maxpool): MaxPool2d(kernel_size=3, stride=2, padding=1, dilation=1, ceil_mode=False)\n",
              "  (layer1): Sequential(\n",
              "    (0): BasicBlock(\n",
              "      (conv1): Conv2d(64, 64, kernel_size=(3, 3), stride=(1, 1), padding=(1, 1), bias=False)\n",
              "      (bn1): BatchNorm2d(64, eps=1e-05, momentum=0.1, affine=True, track_running_stats=True)\n",
              "      (relu): ReLU(inplace)\n",
              "      (conv2): Conv2d(64, 64, kernel_size=(3, 3), stride=(1, 1), padding=(1, 1), bias=False)\n",
              "      (bn2): BatchNorm2d(64, eps=1e-05, momentum=0.1, affine=True, track_running_stats=True)\n",
              "    )\n",
              "    (1): BasicBlock(\n",
              "      (conv1): Conv2d(64, 64, kernel_size=(3, 3), stride=(1, 1), padding=(1, 1), bias=False)\n",
              "      (bn1): BatchNorm2d(64, eps=1e-05, momentum=0.1, affine=True, track_running_stats=True)\n",
              "      (relu): ReLU(inplace)\n",
              "      (conv2): Conv2d(64, 64, kernel_size=(3, 3), stride=(1, 1), padding=(1, 1), bias=False)\n",
              "      (bn2): BatchNorm2d(64, eps=1e-05, momentum=0.1, affine=True, track_running_stats=True)\n",
              "    )\n",
              "  )\n",
              "  (layer2): Sequential(\n",
              "    (0): BasicBlock(\n",
              "      (conv1): Conv2d(64, 128, kernel_size=(3, 3), stride=(2, 2), padding=(1, 1), bias=False)\n",
              "      (bn1): BatchNorm2d(128, eps=1e-05, momentum=0.1, affine=True, track_running_stats=True)\n",
              "      (relu): ReLU(inplace)\n",
              "      (conv2): Conv2d(128, 128, kernel_size=(3, 3), stride=(1, 1), padding=(1, 1), bias=False)\n",
              "      (bn2): BatchNorm2d(128, eps=1e-05, momentum=0.1, affine=True, track_running_stats=True)\n",
              "      (downsample): Sequential(\n",
              "        (0): Conv2d(64, 128, kernel_size=(1, 1), stride=(2, 2), bias=False)\n",
              "        (1): BatchNorm2d(128, eps=1e-05, momentum=0.1, affine=True, track_running_stats=True)\n",
              "      )\n",
              "    )\n",
              "    (1): BasicBlock(\n",
              "      (conv1): Conv2d(128, 128, kernel_size=(3, 3), stride=(1, 1), padding=(1, 1), bias=False)\n",
              "      (bn1): BatchNorm2d(128, eps=1e-05, momentum=0.1, affine=True, track_running_stats=True)\n",
              "      (relu): ReLU(inplace)\n",
              "      (conv2): Conv2d(128, 128, kernel_size=(3, 3), stride=(1, 1), padding=(1, 1), bias=False)\n",
              "      (bn2): BatchNorm2d(128, eps=1e-05, momentum=0.1, affine=True, track_running_stats=True)\n",
              "    )\n",
              "  )\n",
              "  (layer3): Sequential(\n",
              "    (0): BasicBlock(\n",
              "      (conv1): Conv2d(128, 256, kernel_size=(3, 3), stride=(2, 2), padding=(1, 1), bias=False)\n",
              "      (bn1): BatchNorm2d(256, eps=1e-05, momentum=0.1, affine=True, track_running_stats=True)\n",
              "      (relu): ReLU(inplace)\n",
              "      (conv2): Conv2d(256, 256, kernel_size=(3, 3), stride=(1, 1), padding=(1, 1), bias=False)\n",
              "      (bn2): BatchNorm2d(256, eps=1e-05, momentum=0.1, affine=True, track_running_stats=True)\n",
              "      (downsample): Sequential(\n",
              "        (0): Conv2d(128, 256, kernel_size=(1, 1), stride=(2, 2), bias=False)\n",
              "        (1): BatchNorm2d(256, eps=1e-05, momentum=0.1, affine=True, track_running_stats=True)\n",
              "      )\n",
              "    )\n",
              "    (1): BasicBlock(\n",
              "      (conv1): Conv2d(256, 256, kernel_size=(3, 3), stride=(1, 1), padding=(1, 1), bias=False)\n",
              "      (bn1): BatchNorm2d(256, eps=1e-05, momentum=0.1, affine=True, track_running_stats=True)\n",
              "      (relu): ReLU(inplace)\n",
              "      (conv2): Conv2d(256, 256, kernel_size=(3, 3), stride=(1, 1), padding=(1, 1), bias=False)\n",
              "      (bn2): BatchNorm2d(256, eps=1e-05, momentum=0.1, affine=True, track_running_stats=True)\n",
              "    )\n",
              "  )\n",
              "  (layer4): Sequential(\n",
              "    (0): BasicBlock(\n",
              "      (conv1): Conv2d(256, 512, kernel_size=(3, 3), stride=(2, 2), padding=(1, 1), bias=False)\n",
              "      (bn1): BatchNorm2d(512, eps=1e-05, momentum=0.1, affine=True, track_running_stats=True)\n",
              "      (relu): ReLU(inplace)\n",
              "      (conv2): Conv2d(512, 512, kernel_size=(3, 3), stride=(1, 1), padding=(1, 1), bias=False)\n",
              "      (bn2): BatchNorm2d(512, eps=1e-05, momentum=0.1, affine=True, track_running_stats=True)\n",
              "      (downsample): Sequential(\n",
              "        (0): Conv2d(256, 512, kernel_size=(1, 1), stride=(2, 2), bias=False)\n",
              "        (1): BatchNorm2d(512, eps=1e-05, momentum=0.1, affine=True, track_running_stats=True)\n",
              "      )\n",
              "    )\n",
              "    (1): BasicBlock(\n",
              "      (conv1): Conv2d(512, 512, kernel_size=(3, 3), stride=(1, 1), padding=(1, 1), bias=False)\n",
              "      (bn1): BatchNorm2d(512, eps=1e-05, momentum=0.1, affine=True, track_running_stats=True)\n",
              "      (relu): ReLU(inplace)\n",
              "      (conv2): Conv2d(512, 512, kernel_size=(3, 3), stride=(1, 1), padding=(1, 1), bias=False)\n",
              "      (bn2): BatchNorm2d(512, eps=1e-05, momentum=0.1, affine=True, track_running_stats=True)\n",
              "    )\n",
              "  )\n",
              "  (avgpool): AdaptiveAvgPool2d(output_size=(1, 1))\n",
              "  (fc): Sequential(\n",
              "    (0): Linear(in_features=512, out_features=6, bias=True)\n",
              "    (1): LeakyReLU(negative_slope=0.01)\n",
              "    (2): LogSoftmax()\n",
              "  )\n",
              ")"
            ]
          },
          "metadata": {
            "tags": []
          },
          "execution_count": 91
        }
      ]
    },
    {
      "cell_type": "code",
      "metadata": {
        "id": "f2JL5baJ8tAq"
      },
      "source": [
        ""
      ],
      "execution_count": null,
      "outputs": []
    },
    {
      "cell_type": "code",
      "metadata": {
        "id": "fIJPLrPU-6kd",
        "outputId": "909db93f-b86d-470c-c90c-5e253ea972d4",
        "colab": {
          "base_uri": "https://localhost:8080/",
          "height": 34
        }
      },
      "source": [
        ""
      ],
      "execution_count": null,
      "outputs": [
        {
          "output_type": "execute_result",
          "data": {
            "text/plain": [
              "torch.nn.modules.linear.Linear"
            ]
          },
          "metadata": {
            "tags": []
          },
          "execution_count": 28
        }
      ]
    },
    {
      "cell_type": "code",
      "metadata": {
        "id": "9dR9W34t1iCU",
        "outputId": "5e9038b3-7c34-4ba3-a067-4e44e7fddd69",
        "colab": {
          "base_uri": "https://localhost:8080/",
          "height": 34
        }
      },
      "source": [
        "params = sum(p.numel() for p in model.parameters() if p.requires_grad)\n",
        "params"
      ],
      "execution_count": null,
      "outputs": [
        {
          "output_type": "execute_result",
          "data": {
            "text/plain": [
              "3078"
            ]
          },
          "metadata": {
            "tags": []
          },
          "execution_count": 92
        }
      ]
    },
    {
      "cell_type": "code",
      "metadata": {
        "id": "4kM9SNAK_bBr",
        "outputId": "8493580d-d987-4273-a6bd-223d1540ab06",
        "colab": {
          "base_uri": "https://localhost:8080/",
          "height": 379
        }
      },
      "source": [
        "train_df.hist()\n",
        "plt.show()\n",
        "print(\"Data seems balanced\")"
      ],
      "execution_count": null,
      "outputs": [
        {
          "output_type": "display_data",
          "data": {
            "image/png": "[encoded data removed]",
            "text/plain": [
              "<Figure size 576x396 with 1 Axes>"
            ]
          },
          "metadata": {
            "tags": []
          }
        },
        {
          "output_type": "stream",
          "text": [
            "Data seems balanced\n"
          ],
          "name": "stdout"
        }
      ]
    },
    {
      "cell_type": "code",
      "metadata": {
        "id": "pCiS8ORU_xQb",
        "outputId": "8219310d-a1ba-4b7a-fb96-5a006bd44afe",
        "colab": {
          "base_uri": "https://localhost:8080/",
          "height": 362
        }
      },
      "source": [
        "test_df.hist()\n",
        "plt.show()"
      ],
      "execution_count": null,
      "outputs": [
        {
          "output_type": "display_data",
          "data": {
            "image/png": "[encoded data removed]",
            "text/plain": [
              "<Figure size 576x396 with 1 Axes>"
            ]
          },
          "metadata": {
            "tags": []
          }
        }
      ]
    },
    {
      "cell_type": "code",
      "metadata": {
        "id": "VLcZSuaGk9Hl",
        "outputId": "6ca2f343-db73-422b-aeb1-ad3426516cc7",
        "colab": {
          "base_uri": "https://localhost:8080/",
          "height": 34
        }
      },
      "source": [
        "len(train_data)"
      ],
      "execution_count": null,
      "outputs": [
        {
          "output_type": "execute_result",
          "data": {
            "text/plain": [
              "94"
            ]
          },
          "metadata": {
            "tags": []
          },
          "execution_count": 27
        }
      ]
    },
    {
      "cell_type": "code",
      "metadata": {
        "id": "15Mr1W7U-wLg",
        "outputId": "abafe672-034f-4044-b1de-cde9022c2728",
        "colab": {
          "base_uri": "https://localhost:8080/",
          "height": 2567
        }
      },
      "source": [
        "\n",
        "import pdb\n",
        "import time\n",
        "train_loss_his = []\n",
        "test_loss_his = []\n",
        "acc_his = []\n",
        "epochs = 50\n",
        "steps = 0\n",
        "running_loss = 0\n",
        "for epoch in (range(epochs)):\n",
        "    start = time.time()\n",
        "    print(\"Epoch :\" , epoch+1)\n",
        "    for index, (images, labels) in enumerate(train_data):\n",
        "        images, labels = images.to(device), labels.to(device)\n",
        "        steps += 1\n",
        "        optimizer.zero_grad()\n",
        "        logps = model(images)\n",
        "        loss = criterion(logps,labels)\n",
        "        loss.backward()\n",
        "        optimizer.step()\n",
        "        running_loss += loss.item()\n",
        "        \n",
        "    model.eval()\n",
        "    test_loss = 0\n",
        "    accuracy = 0\n",
        "\n",
        "    with torch.no_grad():\n",
        "      for index, (images, labels) in enumerate(test_data):\n",
        "          images, labels = images.to(device), labels.to(device)\n",
        "          logps = model(images)\n",
        "          loss = criterion(logps, labels)\n",
        "          test_loss += loss.item()\n",
        "          ps =torch.exp(logps)\n",
        "          top_ps, top_class = ps.topk(1,dim=1)\n",
        "          equality =top_class == labels.view(*top_class.shape)\n",
        "          accuracy += torch.mean(equality.type(torch.FloatTensor))\n",
        "          \n",
        "    train_loss_his.append(running_loss/len(train_data))\n",
        "    test_loss_his.append(test_loss/len(test_data))\n",
        "    acc_his.append(accuracy*100/len(test_data))\n",
        "    \n",
        "    print(f\"  Epoch {epoch+1}/{epochs}    \"\n",
        "           f\"Train Loss : {running_loss/len(train_data):.3f}   \"\n",
        "         f\"Test_loss : {test_loss/len(test_data):.3f}    \"\n",
        "         f\"Test_accuracy%: {accuracy*100/len(test_data):.3f}\")\n",
        "    print(str(time.time()-start) + \" seconds\")\n",
        "    running_loss = 0\n",
        "    model.train()"
      ],
      "execution_count": null,
      "outputs": [
        {
          "output_type": "stream",
          "text": [
            "Epoch : 1\n",
            "  Epoch 1/50    Train Loss : 1.772   Test_loss : 1.577    Test_accuracy%: 38.678\n",
            "103.82504606246948 seconds\n",
            "Epoch : 2\n",
            "  Epoch 2/50    Train Loss : 1.317   Test_loss : 1.076    Test_accuracy%: 64.479\n",
            "99.64718914031982 seconds\n",
            "Epoch : 3\n",
            "  Epoch 3/50    Train Loss : 0.948   Test_loss : 0.824    Test_accuracy%: 74.458\n",
            "101.99319839477539 seconds\n",
            "Epoch : 4\n",
            "  Epoch 4/50    Train Loss : 0.753   Test_loss : 0.676    Test_accuracy%: 79.735\n",
            "110.13593363761902 seconds\n",
            "Epoch : 5\n",
            "  Epoch 5/50    Train Loss : 0.635   Test_loss : 0.582    Test_accuracy%: 82.446\n",
            "105.49480938911438 seconds\n",
            "Epoch : 6\n",
            "  Epoch 6/50    Train Loss : 0.556   Test_loss : 0.518    Test_accuracy%: 84.437\n",
            "107.9904134273529 seconds\n",
            "Epoch : 7\n",
            "  Epoch 7/50    Train Loss : 0.498   Test_loss : 0.470    Test_accuracy%: 85.318\n",
            "105.12679767608643 seconds\n",
            "Epoch : 8\n",
            "  Epoch 8/50    Train Loss : 0.459   Test_loss : 0.431    Test_accuracy%: 86.283\n",
            "114.0365617275238 seconds\n",
            "Epoch : 9\n",
            "  Epoch 9/50    Train Loss : 0.427   Test_loss : 0.408    Test_accuracy%: 86.644\n",
            "109.35243582725525 seconds\n",
            "Epoch : 10\n",
            "  Epoch 10/50    Train Loss : 0.404   Test_loss : 0.385    Test_accuracy%: 87.340\n",
            "106.75672841072083 seconds\n",
            "Epoch : 11\n",
            "  Epoch 11/50    Train Loss : 0.386   Test_loss : 0.373    Test_accuracy%: 87.555\n",
            "114.31083393096924 seconds\n",
            "Epoch : 12\n",
            "  Epoch 12/50    Train Loss : 0.371   Test_loss : 0.357    Test_accuracy%: 88.106\n",
            "105.72890830039978 seconds\n",
            "Epoch : 13\n",
            "  Epoch 13/50    Train Loss : 0.357   Test_loss : 0.347    Test_accuracy%: 88.558\n",
            "114.56449389457703 seconds\n",
            "Epoch : 14\n",
            "  Epoch 14/50    Train Loss : 0.346   Test_loss : 0.334    Test_accuracy%: 88.864\n",
            "105.56748723983765 seconds\n",
            "Epoch : 15\n",
            "  Epoch 15/50    Train Loss : 0.336   Test_loss : 0.327    Test_accuracy%: 89.047\n",
            "114.7809271812439 seconds\n",
            "Epoch : 16\n",
            "  Epoch 16/50    Train Loss : 0.331   Test_loss : 0.321    Test_accuracy%: 89.247\n",
            "112.7277615070343 seconds\n",
            "Epoch : 17\n",
            "  Epoch 17/50    Train Loss : 0.321   Test_loss : 0.316    Test_accuracy%: 89.454\n",
            "108.52608180046082 seconds\n",
            "Epoch : 18\n",
            "  Epoch 18/50    Train Loss : 0.317   Test_loss : 0.311    Test_accuracy%: 89.546\n",
            "109.21138095855713 seconds\n",
            "Epoch : 19\n",
            "  Epoch 19/50    Train Loss : 0.309   Test_loss : 0.310    Test_accuracy%: 89.714\n",
            "109.9081380367279 seconds\n",
            "Epoch : 20\n",
            "  Epoch 20/50    Train Loss : 0.303   Test_loss : 0.303    Test_accuracy%: 89.561\n",
            "108.53013134002686 seconds\n",
            "Epoch : 21\n",
            "  Epoch 21/50    Train Loss : 0.302   Test_loss : 0.298    Test_accuracy%: 89.600\n",
            "119.65571713447571 seconds\n",
            "Epoch : 22\n",
            "  Epoch 22/50    Train Loss : 0.297   Test_loss : 0.293    Test_accuracy%: 90.043\n",
            "102.74618649482727 seconds\n",
            "Epoch : 23\n",
            "  Epoch 23/50    Train Loss : 0.293   Test_loss : 0.292    Test_accuracy%: 90.066\n",
            "102.70793437957764 seconds\n",
            "Epoch : 24\n",
            "  Epoch 24/50    Train Loss : 0.290   Test_loss : 0.294    Test_accuracy%: 89.837\n",
            "114.3228063583374 seconds\n",
            "Epoch : 25\n",
            "  Epoch 25/50    Train Loss : 0.287   Test_loss : 0.288    Test_accuracy%: 89.983\n",
            "105.98109555244446 seconds\n",
            "Epoch : 26\n",
            "  Epoch 26/50    Train Loss : 0.283   Test_loss : 0.285    Test_accuracy%: 90.182\n",
            "111.77685189247131 seconds\n",
            "Epoch : 27\n",
            "  Epoch 27/50    Train Loss : 0.281   Test_loss : 0.282    Test_accuracy%: 90.120\n",
            "104.96176600456238 seconds\n",
            "Epoch : 28\n",
            "  Epoch 28/50    Train Loss : 0.279   Test_loss : 0.282    Test_accuracy%: 90.235\n",
            "114.13346791267395 seconds\n",
            "Epoch : 29\n",
            "  Epoch 29/50    Train Loss : 0.275   Test_loss : 0.283    Test_accuracy%: 90.266\n",
            "107.99346327781677 seconds\n",
            "Epoch : 30\n",
            "  Epoch 30/50    Train Loss : 0.273   Test_loss : 0.276    Test_accuracy%: 90.434\n",
            "109.28586840629578 seconds\n",
            "Epoch : 31\n",
            "  Epoch 31/50    Train Loss : 0.272   Test_loss : 0.276    Test_accuracy%: 90.227\n",
            "111.16109442710876 seconds\n",
            "Epoch : 32\n",
            "  Epoch 32/50    Train Loss : 0.269   Test_loss : 0.275    Test_accuracy%: 90.389\n",
            "110.84656643867493 seconds\n",
            "Epoch : 33\n",
            "  Epoch 33/50    Train Loss : 0.269   Test_loss : 0.274    Test_accuracy%: 90.396\n",
            "111.3189446926117 seconds\n",
            "Epoch : 34\n",
            "  Epoch 34/50    Train Loss : 0.269   Test_loss : 0.273    Test_accuracy%: 90.488\n",
            "108.34180212020874 seconds\n",
            "Epoch : 35\n",
            "  Epoch 35/50    Train Loss : 0.266   Test_loss : 0.272    Test_accuracy%: 90.542\n",
            "115.63498592376709 seconds\n",
            "Epoch : 36\n",
            "  Epoch 36/50    Train Loss : 0.264   Test_loss : 0.269    Test_accuracy%: 90.664\n",
            "104.36204791069031 seconds\n",
            "Epoch : 37\n",
            "  Epoch 37/50    Train Loss : 0.262   Test_loss : 0.275    Test_accuracy%: 90.198\n",
            "112.30520606040955 seconds\n",
            "Epoch : 38\n",
            "  Epoch 38/50    Train Loss : 0.263   Test_loss : 0.268    Test_accuracy%: 90.427\n",
            "107.88895583152771 seconds\n",
            "Epoch : 39\n",
            "  Epoch 39/50    Train Loss : 0.262   Test_loss : 0.269    Test_accuracy%: 90.748\n",
            "111.7712173461914 seconds\n",
            "Epoch : 40\n",
            "  Epoch 40/50    Train Loss : 0.257   Test_loss : 0.267    Test_accuracy%: 90.657\n",
            "107.3458034992218 seconds\n",
            "Epoch : 41\n",
            "  Epoch 41/50    Train Loss : 0.258   Test_loss : 0.265    Test_accuracy%: 90.672\n",
            "111.91664576530457 seconds\n",
            "Epoch : 42\n",
            "  Epoch 42/50    Train Loss : 0.256   Test_loss : 0.265    Test_accuracy%: 90.741\n",
            "107.62340497970581 seconds\n",
            "Epoch : 43\n",
            "  Epoch 43/50    Train Loss : 0.253   Test_loss : 0.264    Test_accuracy%: 90.649\n",
            "109.05682373046875 seconds\n",
            "Epoch : 44\n",
            "  Epoch 44/50    Train Loss : 0.253   Test_loss : 0.262    Test_accuracy%: 90.916\n",
            "109.88639807701111 seconds\n",
            "Epoch : 45\n",
            "  Epoch 45/50    Train Loss : 0.252   Test_loss : 0.261    Test_accuracy%: 90.932\n",
            "100.66786527633667 seconds\n",
            "Epoch : 46\n",
            "  Epoch 46/50    Train Loss : 0.250   Test_loss : 0.264    Test_accuracy%: 90.649\n",
            "107.12789940834045 seconds\n",
            "Epoch : 47\n",
            "  Epoch 47/50    Train Loss : 0.250   Test_loss : 0.266    Test_accuracy%: 90.458\n",
            "100.64234709739685 seconds\n",
            "Epoch : 48\n",
            "  Epoch 48/50    Train Loss : 0.251   Test_loss : 0.263    Test_accuracy%: 90.542\n",
            "105.4300537109375 seconds\n",
            "Epoch : 49\n",
            "  Epoch 49/50    Train Loss : 0.246   Test_loss : 0.259    Test_accuracy%: 90.802\n",
            "101.50495600700378 seconds\n",
            "Epoch : 50\n",
            "  Epoch 50/50    Train Loss : 0.248   Test_loss : 0.262    Test_accuracy%: 90.748\n",
            "104.20516180992126 seconds\n"
          ],
          "name": "stdout"
        }
      ]
    },
    {
      "cell_type": "code",
      "metadata": {
        "id": "-aK1QQtZTNkG",
        "outputId": "07340107-8755-447f-9df5-dad9d9aa1be6",
        "colab": {
          "base_uri": "https://localhost:8080/",
          "height": 1037
        }
      },
      "source": [
        "\n",
        "import pdb\n",
        "import time\n",
        "train_loss_his_1 = []\n",
        "test_loss_his_1 = []\n",
        "acc_his_1 = []\n",
        "epochs = 20\n",
        "steps = 0\n",
        "running_loss = 0\n",
        "for epoch in (range(epochs)):\n",
        "    start = time.time()\n",
        "    print(\"Epoch :\" , epoch+1)\n",
        "    for index, (images, labels) in enumerate(train_data):\n",
        "        images, labels = images.to(device), labels.to(device)\n",
        "        steps += 1\n",
        "        optimizer.zero_grad()\n",
        "        logps = model(images)\n",
        "        loss = criterion(logps,labels)\n",
        "        loss.backward()\n",
        "        optimizer.step()\n",
        "        running_loss += loss.item()\n",
        "        \n",
        "    model.eval()\n",
        "    test_loss = 0\n",
        "    accuracy = 0\n",
        "\n",
        "    with torch.no_grad():\n",
        "      for index, (images, labels) in enumerate(test_data):\n",
        "          images, labels = images.to(device), labels.to(device)\n",
        "          logps = model(images)\n",
        "          loss = criterion(logps, labels)\n",
        "          test_loss += loss.item()\n",
        "          ps =torch.exp(logps)\n",
        "          top_ps, top_class = ps.topk(1,dim=1)\n",
        "          equality =top_class == labels.view(*top_class.shape)\n",
        "          accuracy += torch.mean(equality.type(torch.FloatTensor))\n",
        "          \n",
        "    train_loss_his_1.append(running_loss/len(train_data))\n",
        "    test_loss_his_1.append(test_loss/len(test_data))\n",
        "    acc_his_1.append(accuracy*100/len(test_data))\n",
        "    \n",
        "    print(f\"  Epoch {epoch+1}/{epochs}    \"\n",
        "           f\"Train Loss : {running_loss/len(train_data):.3f}   \"\n",
        "         f\"Test_loss : {test_loss/len(test_data):.3f}    \"\n",
        "         f\"Test_accuracy%: {accuracy*100/len(test_data):.3f}\")\n",
        "    print(str(time.time()-start) + \" seconds\")\n",
        "    running_loss = 0\n",
        "    model.train()"
      ],
      "execution_count": null,
      "outputs": [
        {
          "output_type": "stream",
          "text": [
            "Epoch : 1\n",
            "  Epoch 1/20    Train Loss : 0.212   Test_loss : 0.228    Test_accuracy%: 91.867\n",
            "184.9081711769104 seconds\n",
            "Epoch : 2\n",
            "  Epoch 2/20    Train Loss : 0.212   Test_loss : 0.223    Test_accuracy%: 92.218\n",
            "184.86595797538757 seconds\n",
            "Epoch : 3\n",
            "  Epoch 3/20    Train Loss : 0.211   Test_loss : 0.224    Test_accuracy%: 92.065\n",
            "183.12676239013672 seconds\n",
            "Epoch : 4\n",
            "  Epoch 4/20    Train Loss : 0.211   Test_loss : 0.223    Test_accuracy%: 92.264\n",
            "201.73814511299133 seconds\n",
            "Epoch : 5\n",
            "  Epoch 5/20    Train Loss : 0.209   Test_loss : 0.221    Test_accuracy%: 92.233\n",
            "184.59141159057617 seconds\n",
            "Epoch : 6\n",
            "  Epoch 6/20    Train Loss : 0.208   Test_loss : 0.226    Test_accuracy%: 92.050\n",
            "183.5429368019104 seconds\n",
            "Epoch : 7\n",
            "  Epoch 7/20    Train Loss : 0.208   Test_loss : 0.223    Test_accuracy%: 92.134\n",
            "180.92630672454834 seconds\n",
            "Epoch : 8\n",
            "  Epoch 8/20    Train Loss : 0.206   Test_loss : 0.222    Test_accuracy%: 92.050\n",
            "203.69309186935425 seconds\n",
            "Epoch : 9\n",
            "  Epoch 9/20    Train Loss : 0.205   Test_loss : 0.231    Test_accuracy%: 91.997\n",
            "184.89565515518188 seconds\n",
            "Epoch : 10\n",
            "  Epoch 10/20    Train Loss : 0.208   Test_loss : 0.224    Test_accuracy%: 91.959\n",
            "183.9961395263672 seconds\n",
            "Epoch : 11\n",
            "  Epoch 11/20    Train Loss : 0.205   Test_loss : 0.221    Test_accuracy%: 92.234\n",
            "181.55123662948608 seconds\n",
            "Epoch : 12\n",
            "  Epoch 12/20    Train Loss : 0.207   Test_loss : 0.223    Test_accuracy%: 92.004\n",
            "203.55937337875366 seconds\n",
            "Epoch : 13\n",
            "  Epoch 13/20    Train Loss : 0.202   Test_loss : 0.227    Test_accuracy%: 91.951\n",
            "180.95401334762573 seconds\n",
            "Epoch : 14\n",
            "  Epoch 14/20    Train Loss : 0.204   Test_loss : 0.224    Test_accuracy%: 92.257\n",
            "185.02675819396973 seconds\n",
            "Epoch : 15\n",
            "  Epoch 15/20    Train Loss : 0.203   Test_loss : 0.228    Test_accuracy%: 91.721\n",
            "184.08669710159302 seconds\n",
            "Epoch : 16\n",
            "  Epoch 16/20    Train Loss : 0.203   Test_loss : 0.223    Test_accuracy%: 91.889\n",
            "193.46925854682922 seconds\n",
            "Epoch : 17\n",
            "  Epoch 17/20    Train Loss : 0.203   Test_loss : 0.222    Test_accuracy%: 92.218\n",
            "178.75512742996216 seconds\n",
            "Epoch : 18\n",
            "  Epoch 18/20    Train Loss : 0.201   Test_loss : 0.223    Test_accuracy%: 92.310\n",
            "185.59236478805542 seconds\n",
            "Epoch : 19\n",
            "  Epoch 19/20    Train Loss : 0.202   Test_loss : 0.219    Test_accuracy%: 92.356\n",
            "187.88606882095337 seconds\n",
            "Epoch : 20\n",
            "  Epoch 20/20    Train Loss : 0.201   Test_loss : 0.221    Test_accuracy%: 92.020\n",
            "194.18188333511353 seconds\n"
          ],
          "name": "stdout"
        }
      ]
    },
    {
      "cell_type": "code",
      "metadata": {
        "id": "KAgMQRrNq2AS",
        "outputId": "10223b8e-824c-4436-ca86-1e28bc90fed1",
        "colab": {
          "base_uri": "https://localhost:8080/",
          "height": 85
        }
      },
      "source": [
        "!ls"
      ],
      "execution_count": null,
      "outputs": [
        {
          "output_type": "stream",
          "text": [
            " model_resnet50_1.pth   root\t      train.csv\n",
            " model_resnet50.pth     sample_data  'train-scene classification.zip'\n",
            " resnet50_1.csv         test\t     'vgg19 - vgg19.csv'\n",
            " resnet50.csv\t        train\n"
          ],
          "name": "stdout"
        }
      ]
    },
    {
      "cell_type": "code",
      "metadata": {
        "id": "bBgE7-BhOuAl",
        "outputId": "1195585e-0ebe-4a4a-8d06-7e9e74358fd2",
        "colab": {
          "resources": {
            "http://localhost:19193/content/model_resnet50_1.pth": {
              "data": "CjwhRE9DVFlQRSBodG1sPgo8aHRtbCBsYW5nPWVuPgogIDxtZXRhIGNoYXJzZXQ9dXRmLTg+CiAgPG1ldGEgbmFtZT12aWV3cG9ydCBjb250ZW50PSJpbml0aWFsLXNjYWxlPTEsIG1pbmltdW0tc2NhbGU9MSwgd2lkdGg9ZGV2aWNlLXdpZHRoIj4KICA8dGl0bGU+RXJyb3IgNTAwIChJbnRlcm5hbCBTZXJ2ZXIgRXJyb3IpISExPC90aXRsZT4KICA8c3R5bGU+CiAgICAqe21hcmdpbjowO3BhZGRpbmc6MH1odG1sLGNvZGV7Zm9udDoxNXB4LzIycHggYXJpYWwsc2Fucy1zZXJpZn1odG1se2JhY2tncm91bmQ6I2ZmZjtjb2xvcjojMjIyO3BhZGRpbmc6MTVweH1ib2R5e21hcmdpbjo3JSBhdXRvIDA7bWF4LXdpZHRoOjM5MHB4O21pbi1oZWlnaHQ6MTgwcHg7cGFkZGluZzozMHB4IDAgMTVweH0qID4gYm9keXtiYWNrZ3JvdW5kOnVybCgvL3d3dy5nb29nbGUuY29tL2ltYWdlcy9lcnJvcnMvcm9ib3QucG5nKSAxMDAlIDVweCBuby1yZXBlYXQ7cGFkZGluZy1yaWdodDoyMDVweH1we21hcmdpbjoxMXB4IDAgMjJweDtvdmVyZmxvdzpoaWRkZW59aW5ze2NvbG9yOiM3Nzc7dGV4dC1kZWNvcmF0aW9uOm5vbmV9YSBpbWd7Ym9yZGVyOjB9QG1lZGlhIHNjcmVlbiBhbmQgKG1heC13aWR0aDo3NzJweCl7Ym9keXtiYWNrZ3JvdW5kOm5vbmU7bWFyZ2luLXRvcDowO21heC13aWR0aDpub25lO3BhZGRpbmctcmlnaHQ6MH19I2xvZ297YmFja2dyb3VuZDp1cmwoLy93d3cuZ29vZ2xlLmNvbS9pbWFnZXMvbG9nb3MvZXJyb3JwYWdlL2Vycm9yX2xvZ28tMTUweDU0LnBuZykgbm8tcmVwZWF0O21hcmdpbi1sZWZ0Oi01cHh9QG1lZGlhIG9ubHkgc2NyZWVuIGFuZCAobWluLXJlc29sdXRpb246MTkyZHBpKXsjbG9nb3tiYWNrZ3JvdW5kOnVybCgvL3d3dy5nb29nbGUuY29tL2ltYWdlcy9sb2dvcy9lcnJvcnBhZ2UvZXJyb3JfbG9nby0xNTB4NTQtMngucG5nKSBuby1yZXBlYXQgMCUgMCUvMTAwJSAxMDAlOy1tb3otYm9yZGVyLWltYWdlOnVybCgvL3d3dy5nb29nbGUuY29tL2ltYWdlcy9sb2dvcy9lcnJvcnBhZ2UvZXJyb3JfbG9nby0xNTB4NTQtMngucG5nKSAwfX1AbWVkaWEgb25seSBzY3JlZW4gYW5kICgtd2Via2l0LW1pbi1kZXZpY2UtcGl4ZWwtcmF0aW86Mil7I2xvZ297YmFja2dyb3VuZDp1cmwoLy93d3cuZ29vZ2xlLmNvbS9pbWFnZXMvbG9nb3MvZXJyb3JwYWdlL2Vycm9yX2xvZ28tMTUweDU0LTJ4LnBuZykgbm8tcmVwZWF0Oy13ZWJraXQtYmFja2dyb3VuZC1zaXplOjEwMCUgMTAwJX19I2xvZ297ZGlzcGxheTppbmxpbmUtYmxvY2s7aGVpZ2h0OjU0cHg7d2lkdGg6MTUwcHh9CiAgPC9zdHlsZT4KICA8YSBocmVmPS8vd3d3Lmdvb2dsZS5jb20vPjxzcGFuIGlkPWxvZ28gYXJpYS1sYWJlbD1Hb29nbGU+PC9zcGFuPjwvYT4KICA8cD48Yj41MDAuPC9iPiA8aW5zPlRoYXTigJlzIGFuIGVycm9yLjwvaW5zPgogIDxwPiAgPGlucz5UaGF04oCZcyBhbGwgd2Uga25vdy48L2lucz4K",
              "ok": false,
              "headers": [
                [
                  "content-length",
                  "1461"
                ],
                [
                  "content-type",
                  "text/html; charset=utf-8"
                ]
              ],
              "status": 500,
              "status_text": ""
            }
          },
          "base_uri": "https://localhost:8080/",
          "height": 520
        }
      },
      "source": [
        "from google.colab import files\n",
        "files.download('model_resnet50_1.pth') "
      ],
      "execution_count": null,
      "outputs": [
        {
          "output_type": "error",
          "ename": "KeyboardInterrupt",
          "evalue": "ignored",
          "traceback": [
            "\u001b[0;31m---------------------------------------------------------------------------\u001b[0m",
            "\u001b[0;31mKeyboardInterrupt\u001b[0m                         Traceback (most recent call last)",
            "\u001b[0;32m<ipython-input-81-0a055dd79a54>\u001b[0m in \u001b[0;36m<module>\u001b[0;34m()\u001b[0m\n\u001b[1;32m      1\u001b[0m \u001b[0;32mfrom\u001b[0m \u001b[0mgoogle\u001b[0m\u001b[0;34m.\u001b[0m\u001b[0mcolab\u001b[0m \u001b[0;32mimport\u001b[0m \u001b[0mfiles\u001b[0m\u001b[0;34m\u001b[0m\u001b[0;34m\u001b[0m\u001b[0m\n\u001b[0;32m----> 2\u001b[0;31m \u001b[0mfiles\u001b[0m\u001b[0;34m.\u001b[0m\u001b[0mdownload\u001b[0m\u001b[0;34m(\u001b[0m\u001b[0;34m'model_resnet50_1.pth'\u001b[0m\u001b[0;34m)\u001b[0m\u001b[0;34m\u001b[0m\u001b[0;34m\u001b[0m\u001b[0m\n\u001b[0m",
            "\u001b[0;32m/usr/local/lib/python3.6/dist-packages/google/colab/files.py\u001b[0m in \u001b[0;36mdownload\u001b[0;34m(filename)\u001b[0m\n\u001b[1;32m    176\u001b[0m       \u001b[0;34m'port'\u001b[0m\u001b[0;34m:\u001b[0m \u001b[0mport\u001b[0m\u001b[0;34m,\u001b[0m\u001b[0;34m\u001b[0m\u001b[0;34m\u001b[0m\u001b[0m\n\u001b[1;32m    177\u001b[0m       \u001b[0;34m'path'\u001b[0m\u001b[0;34m:\u001b[0m \u001b[0m_os\u001b[0m\u001b[0;34m.\u001b[0m\u001b[0mpath\u001b[0m\u001b[0;34m.\u001b[0m\u001b[0mabspath\u001b[0m\u001b[0;34m(\u001b[0m\u001b[0mfilename\u001b[0m\u001b[0;34m)\u001b[0m\u001b[0;34m,\u001b[0m\u001b[0;34m\u001b[0m\u001b[0;34m\u001b[0m\u001b[0m\n\u001b[0;32m--> 178\u001b[0;31m       \u001b[0;34m'name'\u001b[0m\u001b[0;34m:\u001b[0m \u001b[0m_os\u001b[0m\u001b[0;34m.\u001b[0m\u001b[0mpath\u001b[0m\u001b[0;34m.\u001b[0m\u001b[0mbasename\u001b[0m\u001b[0;34m(\u001b[0m\u001b[0mfilename\u001b[0m\u001b[0;34m)\u001b[0m\u001b[0;34m,\u001b[0m\u001b[0;34m\u001b[0m\u001b[0;34m\u001b[0m\u001b[0m\n\u001b[0m\u001b[1;32m    179\u001b[0m   })\n",
            "\u001b[0;32m/usr/local/lib/python3.6/dist-packages/google/colab/output/_js.py\u001b[0m in \u001b[0;36meval_js\u001b[0;34m(script, ignore_result)\u001b[0m\n\u001b[1;32m     37\u001b[0m   \u001b[0;32mif\u001b[0m \u001b[0mignore_result\u001b[0m\u001b[0;34m:\u001b[0m\u001b[0;34m\u001b[0m\u001b[0;34m\u001b[0m\u001b[0m\n\u001b[1;32m     38\u001b[0m     \u001b[0;32mreturn\u001b[0m\u001b[0;34m\u001b[0m\u001b[0;34m\u001b[0m\u001b[0m\n\u001b[0;32m---> 39\u001b[0;31m   \u001b[0;32mreturn\u001b[0m \u001b[0m_message\u001b[0m\u001b[0;34m.\u001b[0m\u001b[0mread_reply_from_input\u001b[0m\u001b[0;34m(\u001b[0m\u001b[0mrequest_id\u001b[0m\u001b[0;34m)\u001b[0m\u001b[0;34m\u001b[0m\u001b[0;34m\u001b[0m\u001b[0m\n\u001b[0m\u001b[1;32m     40\u001b[0m \u001b[0;34m\u001b[0m\u001b[0m\n\u001b[1;32m     41\u001b[0m \u001b[0;34m\u001b[0m\u001b[0m\n",
            "\u001b[0;32m/usr/local/lib/python3.6/dist-packages/google/colab/_message.py\u001b[0m in \u001b[0;36mread_reply_from_input\u001b[0;34m(message_id, timeout_sec)\u001b[0m\n\u001b[1;32m     99\u001b[0m     \u001b[0mreply\u001b[0m \u001b[0;34m=\u001b[0m \u001b[0m_read_next_input_message\u001b[0m\u001b[0;34m(\u001b[0m\u001b[0;34m)\u001b[0m\u001b[0;34m\u001b[0m\u001b[0;34m\u001b[0m\u001b[0m\n\u001b[1;32m    100\u001b[0m     \u001b[0;32mif\u001b[0m \u001b[0mreply\u001b[0m \u001b[0;34m==\u001b[0m \u001b[0m_NOT_READY\u001b[0m \u001b[0;32mor\u001b[0m \u001b[0;32mnot\u001b[0m \u001b[0misinstance\u001b[0m\u001b[0;34m(\u001b[0m\u001b[0mreply\u001b[0m\u001b[0;34m,\u001b[0m \u001b[0mdict\u001b[0m\u001b[0;34m)\u001b[0m\u001b[0;34m:\u001b[0m\u001b[0;34m\u001b[0m\u001b[0;34m\u001b[0m\u001b[0m\n\u001b[0;32m--> 101\u001b[0;31m       \u001b[0mtime\u001b[0m\u001b[0;34m.\u001b[0m\u001b[0msleep\u001b[0m\u001b[0;34m(\u001b[0m\u001b[0;36m0.025\u001b[0m\u001b[0;34m)\u001b[0m\u001b[0;34m\u001b[0m\u001b[0;34m\u001b[0m\u001b[0m\n\u001b[0m\u001b[1;32m    102\u001b[0m       \u001b[0;32mcontinue\u001b[0m\u001b[0;34m\u001b[0m\u001b[0;34m\u001b[0m\u001b[0m\n\u001b[1;32m    103\u001b[0m     if (reply.get('type') == 'colab_reply' and\n",
            "\u001b[0;31mKeyboardInterrupt\u001b[0m: "
          ]
        }
      ]
    },
    {
      "cell_type": "code",
      "metadata": {
        "id": "Vfd3bmeOOuAr"
      },
      "source": [
        "torch.save(model,\"model_resnet50_2.pth\")"
      ],
      "execution_count": null,
      "outputs": []
    },
    {
      "cell_type": "code",
      "metadata": {
        "id": "X2MK6NAsCGRr"
      },
      "source": [
        "model = torch.load(PATH)\n",
        "model.eval()"
      ],
      "execution_count": null,
      "outputs": []
    },
    {
      "cell_type": "code",
      "metadata": {
        "id": "_saJd4niEFlb"
      },
      "source": [
        "train_loss_list = train_loss_his+train_loss_his_1+train_loss_his_2\n",
        "test_loss_list = test_loss_his+test_loss_his_1+test_loss_his_2\n",
        "accuracy_list = acc_his+acc_his_1+acc_his_2"
      ],
      "execution_count": null,
      "outputs": []
    },
    {
      "cell_type": "code",
      "metadata": {
        "id": "DGS7vkUMGnQa",
        "outputId": "a4eaa812-02da-4263-9622-2de6aeb25342",
        "colab": {
          "base_uri": "https://localhost:8080/",
          "height": 163
        }
      },
      "source": [
        "data_tuple = list(zip(train_loss_list,test_loss_list,accuracy_list))"
      ],
      "execution_count": null,
      "outputs": [
        {
          "output_type": "error",
          "ename": "TypeError",
          "evalue": "ignored",
          "traceback": [
            "\u001b[0;31m---------------------------------------------------------------------------\u001b[0m",
            "\u001b[0;31mTypeError\u001b[0m                                 Traceback (most recent call last)",
            "\u001b[0;32m<ipython-input-34-80b0dd837f38>\u001b[0m in \u001b[0;36m<module>\u001b[0;34m()\u001b[0m\n\u001b[0;32m----> 1\u001b[0;31m \u001b[0mdata_tuple\u001b[0m \u001b[0;34m=\u001b[0m \u001b[0mlist\u001b[0m\u001b[0;34m(\u001b[0m\u001b[0mzip\u001b[0m\u001b[0;34m(\u001b[0m\u001b[0mtrain_loss_list\u001b[0m\u001b[0;34m,\u001b[0m\u001b[0mtest_loss_list\u001b[0m\u001b[0;34m,\u001b[0m\u001b[0maccuracy_list\u001b[0m\u001b[0;34m)\u001b[0m\u001b[0;34m)\u001b[0m\u001b[0;34m\u001b[0m\u001b[0;34m\u001b[0m\u001b[0m\n\u001b[0m",
            "\u001b[0;31mTypeError\u001b[0m: 'ZipFile' object is not callable"
          ]
        }
      ]
    },
    {
      "cell_type": "code",
      "metadata": {
        "id": "5_SvLUZJGFfP"
      },
      "source": [
        "loss_history = pd.DataFrame()\n",
        "loss_history[\"train_loss\"] = train_loss_list\n",
        "loss_history[\"test_loss\"] = test_loss_list\n",
        "loss_history[\"accuracy\"] = accuracy_list"
      ],
      "execution_count": null,
      "outputs": []
    },
    {
      "cell_type": "code",
      "metadata": {
        "id": "hRRIAb3SHZRv"
      },
      "source": [
        "loss_history.to_csv(\"history.csv\")"
      ],
      "execution_count": null,
      "outputs": []
    },
    {
      "cell_type": "code",
      "metadata": {
        "id": "CB9yRN7eH3pd"
      },
      "source": [
        "from google.colab import files\n",
        "files.download('model.pth') "
      ],
      "execution_count": null,
      "outputs": []
    },
    {
      "cell_type": "code",
      "metadata": {
        "id": "Jf-st9HjIWSl"
      },
      "source": [
        "torch.save(model,\"model.pth\")"
      ],
      "execution_count": null,
      "outputs": []
    },
    {
      "cell_type": "code",
      "metadata": {
        "id": "6-wlg2-P-YAg"
      },
      "source": [
        "\n",
        "sample = [\"0.jpg\" ,\"11430.jpg\",  \"12814.jpg\" , \"14105.jpg\",  \"15485.jpg\" , \"16850.jpg\"  ,\"18198.jpg\"]"
      ],
      "execution_count": null,
      "outputs": []
    },
    {
      "cell_type": "code",
      "metadata": {
        "id": "vwQc7BUg-PEY"
      },
      "source": [
        "!kill -9 -1"
      ],
      "execution_count": null,
      "outputs": []
    },
    {
      "cell_type": "code",
      "metadata": {
        "id": "mqcy4132-1og"
      },
      "source": [
        "import matplotlib.pyplot as plt\n",
        "import seaborn as sns\n",
        "import numpy as np\n",
        "from PIL import Image\n",
        "from collections import OrderedDict\n",
        "def image_loader(image_name):\n",
        "    loader = transforms.Compose([transforms.Resize(size=(224,224)),transforms.ToTensor()])\n",
        "    image = Image.open(image_name)\n",
        "    image = loader(image).float()\n",
        "    image = Variable(image, requires_grad=True)\n",
        "    image = image.unsqueeze(0)  #this is for VGG, may not be needed for ResNet\n",
        "    return image.cuda()  #assumes that you're using GPU"
      ],
      "execution_count": null,
      "outputs": []
    },
    {
      "cell_type": "code",
      "metadata": {
        "id": "ZyL25YcqATh0",
        "outputId": "b6a2c2ae-be0f-469f-f1be-dec8fcb9e897",
        "colab": {
          "base_uri": "https://localhost:8080/",
          "height": 35
        }
      },
      "source": [
        "%cd .."
      ],
      "execution_count": null,
      "outputs": [
        {
          "output_type": "stream",
          "text": [
            "/content\n"
          ],
          "name": "stdout"
        }
      ]
    },
    {
      "cell_type": "code",
      "metadata": {
        "id": "WsjlM04h4QFw"
      },
      "source": [
        "cols = ['image_num','image_name', 'label']\n",
        "submission = pd.DataFrame(columns=cols, index=range(7302))\n",
        "a=0\n",
        "exc = []\n",
        "for file in os.listdir(\"train\"):\n",
        "    #print(1)\n",
        "    if file.title().lower().endswith('.jpg') :\n",
        "      try:\n",
        "         \n",
        "        src_dir = \"train/\" + file.title().lower()\n",
        "        image = image_loader(src_dir)\n",
        "        outputs = model(image)\n",
        "        _, preds = torch.max(outputs, 1)\n",
        "        submission.loc[a].image_num = int(os.path.splitext(file.title().lower())[0])\n",
        "        submission.loc[a].image_name = (file.title().lower())\n",
        "        submission.loc[a].label = (preds.item())\n",
        "        a += 1\n",
        "      except:\n",
        "        exc.append(file.title().lower())\n",
        "        \n",
        "     \n"
      ],
      "execution_count": null,
      "outputs": []
    },
    {
      "cell_type": "code",
      "metadata": {
        "id": "HetLlijVBfbB",
        "outputId": "b7619b03-8b8c-488b-c73f-4bfdf75ff179",
        "colab": {
          "base_uri": "https://localhost:8080/",
          "height": 34
        }
      },
      "source": [
        "exc"
      ],
      "execution_count": null,
      "outputs": [
        {
          "output_type": "execute_result",
          "data": {
            "text/plain": [
              "['7606.jpg']"
            ]
          },
          "metadata": {
            "tags": []
          },
          "execution_count": 97
        }
      ]
    },
    {
      "cell_type": "code",
      "metadata": {
        "id": "raYj06fi4Iua",
        "outputId": "963a0e78-0d58-4796-c116-3ed7f6575312",
        "colab": {
          "base_uri": "https://localhost:8080/",
          "height": 204
        }
      },
      "source": [
        "data=submission.sort_values('image_num')\n",
        "data.head()\n"
      ],
      "execution_count": null,
      "outputs": [
        {
          "output_type": "execute_result",
          "data": {
            "text/html": [
              "<div>\n",
              "<style scoped>\n",
              "    .dataframe tbody tr th:only-of-type {\n",
              "        vertical-align: middle;\n",
              "    }\n",
              "\n",
              "    .dataframe tbody tr th {\n",
              "        vertical-align: top;\n",
              "    }\n",
              "\n",
              "    .dataframe thead th {\n",
              "        text-align: right;\n",
              "    }\n",
              "</style>\n",
              "<table border=\"1\" class=\"dataframe\">\n",
              "  <thead>\n",
              "    <tr style=\"text-align: right;\">\n",
              "      <th></th>\n",
              "      <th>image_num</th>\n",
              "      <th>image_name</th>\n",
              "      <th>label</th>\n",
              "    </tr>\n",
              "  </thead>\n",
              "  <tbody>\n",
              "    <tr>\n",
              "      <th>6353</th>\n",
              "      <td>3</td>\n",
              "      <td>3.jpg</td>\n",
              "      <td>3</td>\n",
              "    </tr>\n",
              "    <tr>\n",
              "      <th>4451</th>\n",
              "      <td>5</td>\n",
              "      <td>5.jpg</td>\n",
              "      <td>3</td>\n",
              "    </tr>\n",
              "    <tr>\n",
              "      <th>7184</th>\n",
              "      <td>6</td>\n",
              "      <td>6.jpg</td>\n",
              "      <td>2</td>\n",
              "    </tr>\n",
              "    <tr>\n",
              "      <th>2623</th>\n",
              "      <td>11</td>\n",
              "      <td>11.jpg</td>\n",
              "      <td>2</td>\n",
              "    </tr>\n",
              "    <tr>\n",
              "      <th>3505</th>\n",
              "      <td>14</td>\n",
              "      <td>14.jpg</td>\n",
              "      <td>3</td>\n",
              "    </tr>\n",
              "  </tbody>\n",
              "</table>\n",
              "</div>"
            ],
            "text/plain": [
              "     image_num image_name label\n",
              "6353         3      3.jpg     3\n",
              "4451         5      5.jpg     3\n",
              "7184         6      6.jpg     2\n",
              "2623        11     11.jpg     2\n",
              "3505        14     14.jpg     3"
            ]
          },
          "metadata": {
            "tags": []
          },
          "execution_count": 99
        }
      ]
    },
    {
      "cell_type": "code",
      "metadata": {
        "id": "VdGEFw05akwP",
        "outputId": "91d1db7a-1118-4a46-fb13-59d03035b6d5",
        "colab": {
          "base_uri": "https://localhost:8080/",
          "height": 85
        }
      },
      "source": [
        "%ls"
      ],
      "execution_count": null,
      "outputs": [
        {
          "output_type": "stream",
          "text": [
            " model_resnet50_1.pth   resnet50.csv   \u001b[0m\u001b[01;34mtrain\u001b[0m/\n",
            " model_resnet50_2.pth   \u001b[01;34mroot\u001b[0m/          train.csv\n",
            " model_resnet50.pth     \u001b[01;34msample_data\u001b[0m/  'train-scene classification.zip'\n",
            " resnet50_1.csv         \u001b[01;34mtest\u001b[0m/         'vgg19 - vgg19.csv'\n"
          ],
          "name": "stdout"
        }
      ]
    },
    {
      "cell_type": "code",
      "metadata": {
        "id": "Vj6-OZSB4Irs"
      },
      "source": [
        "data.to_csv('resnet50_3_.csv',index=False)"
      ],
      "execution_count": null,
      "outputs": []
    },
    {
      "cell_type": "code",
      "metadata": {
        "id": "uT3eYlav4IoH"
      },
      "source": [
        "from google.colab import files\n",
        "files.download('resnet50_3_.csv') "
      ],
      "execution_count": null,
      "outputs": []
    },
    {
      "cell_type": "code",
      "metadata": {
        "id": "c9-wZP9mE5Z3"
      },
      "source": [
        ""
      ],
      "execution_count": null,
      "outputs": []
    },
    {
      "cell_type": "code",
      "metadata": {
        "id": "jlaLoRKJCxeK"
      },
      "source": [
        "def plot_solution(image_path, model):\n",
        "    # Set up plot\n",
        "    plt.figure(figsize = (6,10))\n",
        "    ax = plt.subplot(2,1,1)\n",
        "    # Set up title\n",
        "    flower_num = image_path.split('/')[1]\n",
        "    title_ = \"letsC\"\n",
        "    # Plot flower\n",
        "    img = process_image(image_path)\n",
        "    imshow(img, ax, title = title_);\n",
        "    # Make prediction\n",
        "    probs, labs, flowers = predict(image_path, model) \n",
        "    # Plot bar chart\n",
        "    plt.subplot(2,1,2)\n",
        "    sns.barplot(x=probs, y=flowers, color=sns.color_palette()[0]);\n",
        "    plt.show()"
      ],
      "execution_count": null,
      "outputs": []
    },
    {
      "cell_type": "code",
      "metadata": {
        "id": "RrTJi1yQDnot"
      },
      "source": [
        "import matplotlib.pyplot as plt\n",
        "import seaborn as sns\n",
        "import numpy as np\n",
        "from PIL import Image\n",
        "from collections import OrderedDict"
      ],
      "execution_count": null,
      "outputs": []
    },
    {
      "cell_type": "code",
      "metadata": {
        "id": "H7UI3TVMV7LR",
        "outputId": "8aa58718-f636-43ef-8bb0-fd33eb2dc51b",
        "colab": {
          "base_uri": "https://localhost:8080/",
          "height": 347
        }
      },
      "source": [
        "plt.plot(train_loss_his, label='Training loss')\n",
        "plt.plot(test_loss_his, label='Validation loss')\n",
        "plt.legend(frameon=False)\n",
        "plt.show()"
      ],
      "execution_count": null,
      "outputs": [
        {
          "output_type": "display_data",
          "data": {
            "image/png": "[encoded data removed]",
            "text/plain": [
              "<Figure size 576x396 with 1 Axes>"
            ]
          },
          "metadata": {
            "tags": []
          }
        }
      ]
    },
    {
      "cell_type": "code",
      "metadata": {
        "id": "o-m_i0LIXotK"
      },
      "source": [
        "sub_transform = transforms.Compose([transforms.Resize(size=(224,224)),transforms.ToTensor()])\n",
        "sub_dataset = datasets.ImageFolder(\"train/\",transform=sub_transform)\n",
        "sub_data = torch.utils.data.DataLoader(sub_dataset,batch_size=128,shuffle=True)"
      ],
      "execution_count": null,
      "outputs": []
    },
    {
      "cell_type": "code",
      "metadata": {
        "id": "Z6PrLx8CbDzs",
        "outputId": "a22fcc8c-3dad-4806-99d3-d515779142ca",
        "colab": {
          "base_uri": "https://localhost:8080/",
          "height": 34
        }
      },
      "source": [
        ""
      ],
      "execution_count": null,
      "outputs": [
        {
          "output_type": "stream",
          "text": [
            "torch.Size([1, 3, 224, 224])\n"
          ],
          "name": "stdout"
        }
      ]
    },
    {
      "cell_type": "code",
      "metadata": {
        "id": "cQsYByVzekt8"
      },
      "source": [
        "import torchvision\n",
        "from pylab import *\n",
        "imshow(torchvision.utils.make_grid(test1))"
      ],
      "execution_count": null,
      "outputs": []
    },
    {
      "cell_type": "code",
      "metadata": {
        "id": "eWqgFZNMgLvH",
        "outputId": "6eeef40a-308e-4ffa-d75c-448b5196599e",
        "colab": {
          "base_uri": "https://localhost:8080/",
          "height": 34
        }
      },
      "source": [
        "%cd .."
      ],
      "execution_count": null,
      "outputs": [
        {
          "output_type": "stream",
          "text": [
            "/content\n"
          ],
          "name": "stdout"
        }
      ]
    },
    {
      "cell_type": "code",
      "metadata": {
        "id": "hzJwFiVQXYuz",
        "outputId": "04e86942-e01d-4a6b-ef90-cecd03028b26",
        "colab": {
          "base_uri": "https://localhost:8080/",
          "height": 51
        }
      },
      "source": [
        "\n",
        "loader = transforms.Compose([transforms.Resize(size=(224,224)),transforms.ToTensor()])\n",
        "image_name =\"train/5.jpg\"\n",
        "def image_loader(image_name):\n",
        "    \"\"\"load image, returns cuda tensor\"\"\"\n",
        "    image = Image.open(image_name)\n",
        "    image = loader(image).float()\n",
        "    image = Variable(image, requires_grad=True)\n",
        "    image = image.unsqueeze(0)  #this is for VGG, may not be needed for ResNet\n",
        "    return image.cuda()  #assumes that you're using GPU\n",
        "\n",
        "image = image_loader(image_name)\n",
        "#print (image.size())\n",
        "outputs = model(image)\n",
        "_, preds = torch.max(outputs, 1)\n",
        "outputs"
      ],
      "execution_count": null,
      "outputs": [
        {
          "output_type": "execute_result",
          "data": {
            "text/plain": [
              "tensor([[-8.5831e-06, -1.4287e+01, -1.4287e+01, -1.4287e+01, -1.3454e+01,\n",
              "         -1.2116e+01]], device='cuda:0', grad_fn=<LogSoftmaxBackward>)"
            ]
          },
          "metadata": {
            "tags": []
          },
          "execution_count": 153
        }
      ]
    },
    {
      "cell_type": "code",
      "metadata": {
        "id": "8A3aE0GObZdh"
      },
      "source": [
        "#cv\n",
        "import shutil \n",
        "import os \n",
        "\n",
        "def image_loader(image_name):\n",
        "    \"\"\"load image, returns cuda tensor\"\"\"\n",
        "    image = Image.open(image_name)\n",
        "    image = loader(image).float()\n",
        "    image = Variable(image, requires_grad=True)\n",
        "    image = image.unsqueeze(0)  #this is for VGG, may not be needed for ResNet\n",
        "    return image.cuda()  #assumes that you're using GPU\n",
        "  \n",
        "cols = ['image_name', 'label']\n",
        "submission = pd.DataFrame(columns=cols, index=range(7302))\n",
        "a=0\n",
        "exc = []\n",
        "for file in os.listdir(\"train\"):\n",
        "    if file.title().lower().endswith('.jpg') :\n",
        "      try:\n",
        "        image_name = file.title().lower()\n",
        "        src_dir = \"train/\" + image_name\n",
        "        image = image_loader(src_dir)\n",
        "        outputs = model(image)\n",
        "        _, preds = torch.max(outputs, 1)\n",
        "        submission.loc[a].image_name = (file.title().lower())\n",
        "        submission.loc[a].label = (preds.item())\n",
        "        a += 1\n",
        "      except:\n",
        "        exc.append(image_name)\n",
        "        \n",
        "     "
      ],
      "execution_count": null,
      "outputs": []
    },
    {
      "cell_type": "code",
      "metadata": {
        "id": "Cbz6mxqe9EZX"
      },
      "source": [
        "submission.to_csv(\"1st_submission.csv\",index=True)"
      ],
      "execution_count": null,
      "outputs": []
    },
    {
      "cell_type": "code",
      "metadata": {
        "id": "0rTrSgnMDtuh"
      },
      "source": [
        "from google.colab import files\n",
        "files.download('1st_submission.csv') "
      ],
      "execution_count": null,
      "outputs": []
    },
    {
      "cell_type": "code",
      "metadata": {
        "id": "yNeIxGAPFRgJ",
        "outputId": "5a4af75d-24c1-49d1-8c22-6d6bb4285f4e",
        "colab": {
          "base_uri": "https://localhost:8080/",
          "height": 163
        }
      },
      "source": [
        "submission.head()"
      ],
      "execution_count": null,
      "outputs": [
        {
          "output_type": "error",
          "ename": "NameError",
          "evalue": "ignored",
          "traceback": [
            "\u001b[0;31m---------------------------------------------------------------------------\u001b[0m",
            "\u001b[0;31mNameError\u001b[0m                                 Traceback (most recent call last)",
            "\u001b[0;32m<ipython-input-1-9c7f26501357>\u001b[0m in \u001b[0;36m<module>\u001b[0;34m()\u001b[0m\n\u001b[0;32m----> 1\u001b[0;31m \u001b[0msubmission\u001b[0m\u001b[0;34m.\u001b[0m\u001b[0mhead\u001b[0m\u001b[0;34m(\u001b[0m\u001b[0;34m)\u001b[0m\u001b[0;34m\u001b[0m\u001b[0;34m\u001b[0m\u001b[0m\n\u001b[0m",
            "\u001b[0;31mNameError\u001b[0m: name 'submission' is not defined"
          ]
        }
      ]
    },
    {
      "cell_type": "code",
      "metadata": {
        "id": "53SMxda_YRYU",
        "outputId": "e064cc22-e926-496a-eec5-721136ada95d",
        "colab": {
          "base_uri": "https://localhost:8080/",
          "height": 34
        }
      },
      "source": [
        "#image_name = file.title().lower()\n",
        "cols = ['image_name', 'label']\n",
        "df = pd.DataFrame(columns=cols, index=range(1))\n",
        "src_dir = \"train/\" + '5.jpg'\n",
        "image = image_loader(src_dir)\n",
        "outputs = model(image)\n",
        "_, preds = torch.max(outputs, 1)\n",
        "df.loc[a].image_name = str(file.title().lower())\n",
        "df.loc[a].label = int(preds.item())"
      ],
      "execution_count": null,
      "outputs": [
        {
          "output_type": "execute_result",
          "data": {
            "text/plain": [
              "'5'"
            ]
          },
          "metadata": {
            "tags": []
          },
          "execution_count": 118
        }
      ]
    },
    {
      "cell_type": "code",
      "metadata": {
        "id": "fWeKSdejgjyF",
        "outputId": "df99ad6b-a24c-421d-bb08-9b88b1d93574",
        "colab": {
          "base_uri": "https://localhost:8080/",
          "height": 51
        }
      },
      "source": [
        "%ls"
      ],
      "execution_count": null,
      "outputs": [
        {
          "output_type": "stream",
          "text": [
            " \u001b[0m\u001b[01;34mcv\u001b[0m/     \u001b[01;34msample_data\u001b[0m/   \u001b[01;34mtrain\u001b[0m/     'train-scene classification.zip'\n",
            " \u001b[01;34mroot\u001b[0m/   \u001b[01;34mtest\u001b[0m/          train.csv\n"
          ],
          "name": "stdout"
        }
      ]
    },
    {
      "cell_type": "code",
      "metadata": {
        "id": "jcUe_0kKdlmK",
        "outputId": "f01049fa-7531-4a02-8488-0f2900bdd0e8",
        "colab": {
          "base_uri": "https://localhost:8080/",
          "height": 163
        }
      },
      "source": [
        "Imshow(test1.cpu().data[0])"
      ],
      "execution_count": null,
      "outputs": [
        {
          "output_type": "error",
          "ename": "NameError",
          "evalue": "ignored",
          "traceback": [
            "\u001b[0;31m---------------------------------------------------------------------------\u001b[0m",
            "\u001b[0;31mNameError\u001b[0m                                 Traceback (most recent call last)",
            "\u001b[0;32m<ipython-input-98-846299c28520>\u001b[0m in \u001b[0;36m<module>\u001b[0;34m()\u001b[0m\n\u001b[0;32m----> 1\u001b[0;31m \u001b[0mImshow\u001b[0m\u001b[0;34m(\u001b[0m\u001b[0mtest1\u001b[0m\u001b[0;34m.\u001b[0m\u001b[0mcpu\u001b[0m\u001b[0;34m(\u001b[0m\u001b[0;34m)\u001b[0m\u001b[0;34m.\u001b[0m\u001b[0mdata\u001b[0m\u001b[0;34m[\u001b[0m\u001b[0;36m0\u001b[0m\u001b[0;34m]\u001b[0m\u001b[0;34m)\u001b[0m\u001b[0;34m\u001b[0m\u001b[0;34m\u001b[0m\u001b[0m\n\u001b[0m",
            "\u001b[0;31mNameError\u001b[0m: name 'Imshow' is not defined"
          ]
        }
      ]
    },
    {
      "cell_type": "code",
      "metadata": {
        "id": "c0guOH3JdAoN",
        "outputId": "740452a6-2372-4fcf-e6b5-7cf5a893f8fa",
        "colab": {
          "base_uri": "https://localhost:8080/",
          "height": 1061
        }
      },
      "source": [
        "from matplotlib import pyplot as plt\n",
        "image1 = Image.open(image_name)\n",
        "image1 = loader(image1).float()\n",
        "image2= np.array(image1)\n",
        "plt.imshow(image2, interpolation='nearest')\n",
        "plt.show()\n",
        "%matplotlib inline"
      ],
      "execution_count": null,
      "outputs": [
        {
          "output_type": "error",
          "ename": "TypeError",
          "evalue": "ignored",
          "traceback": [
            "\u001b[0;31m---------------------------------------------------------------------------\u001b[0m",
            "\u001b[0;31mTypeError\u001b[0m                                 Traceback (most recent call last)",
            "\u001b[0;32m<ipython-input-96-ef640e3e3ac0>\u001b[0m in \u001b[0;36m<module>\u001b[0;34m()\u001b[0m\n\u001b[1;32m      3\u001b[0m \u001b[0mimage1\u001b[0m \u001b[0;34m=\u001b[0m \u001b[0mloader\u001b[0m\u001b[0;34m(\u001b[0m\u001b[0mimage1\u001b[0m\u001b[0;34m)\u001b[0m\u001b[0;34m.\u001b[0m\u001b[0mfloat\u001b[0m\u001b[0;34m(\u001b[0m\u001b[0;34m)\u001b[0m\u001b[0;34m\u001b[0m\u001b[0;34m\u001b[0m\u001b[0m\n\u001b[1;32m      4\u001b[0m \u001b[0mimage2\u001b[0m\u001b[0;34m=\u001b[0m \u001b[0mnp\u001b[0m\u001b[0;34m.\u001b[0m\u001b[0marray\u001b[0m\u001b[0;34m(\u001b[0m\u001b[0mimage1\u001b[0m\u001b[0;34m)\u001b[0m\u001b[0;34m\u001b[0m\u001b[0;34m\u001b[0m\u001b[0m\n\u001b[0;32m----> 5\u001b[0;31m \u001b[0mplt\u001b[0m\u001b[0;34m.\u001b[0m\u001b[0mimshow\u001b[0m\u001b[0;34m(\u001b[0m\u001b[0mimage2\u001b[0m\u001b[0;34m,\u001b[0m \u001b[0minterpolation\u001b[0m\u001b[0;34m=\u001b[0m\u001b[0;34m'nearest'\u001b[0m\u001b[0;34m)\u001b[0m\u001b[0;34m\u001b[0m\u001b[0;34m\u001b[0m\u001b[0m\n\u001b[0m\u001b[1;32m      6\u001b[0m \u001b[0mplt\u001b[0m\u001b[0;34m.\u001b[0m\u001b[0mshow\u001b[0m\u001b[0;34m(\u001b[0m\u001b[0;34m)\u001b[0m\u001b[0;34m\u001b[0m\u001b[0;34m\u001b[0m\u001b[0m\n\u001b[1;32m      7\u001b[0m \u001b[0mget_ipython\u001b[0m\u001b[0;34m(\u001b[0m\u001b[0;34m)\u001b[0m\u001b[0;34m.\u001b[0m\u001b[0mmagic\u001b[0m\u001b[0;34m(\u001b[0m\u001b[0;34m'matplotlib inline'\u001b[0m\u001b[0;34m)\u001b[0m\u001b[0;34m\u001b[0m\u001b[0;34m\u001b[0m\u001b[0m\n",
            "\u001b[0;32m/usr/local/lib/python3.6/dist-packages/matplotlib/pyplot.py\u001b[0m in \u001b[0;36mimshow\u001b[0;34m(X, cmap, norm, aspect, interpolation, alpha, vmin, vmax, origin, extent, shape, filternorm, filterrad, imlim, resample, url, data, **kwargs)\u001b[0m\n\u001b[1;32m   2697\u001b[0m         \u001b[0mfilternorm\u001b[0m\u001b[0;34m=\u001b[0m\u001b[0mfilternorm\u001b[0m\u001b[0;34m,\u001b[0m \u001b[0mfilterrad\u001b[0m\u001b[0;34m=\u001b[0m\u001b[0mfilterrad\u001b[0m\u001b[0;34m,\u001b[0m \u001b[0mimlim\u001b[0m\u001b[0;34m=\u001b[0m\u001b[0mimlim\u001b[0m\u001b[0;34m,\u001b[0m\u001b[0;34m\u001b[0m\u001b[0;34m\u001b[0m\u001b[0m\n\u001b[1;32m   2698\u001b[0m         resample=resample, url=url, **({\"data\": data} if data is not\n\u001b[0;32m-> 2699\u001b[0;31m         None else {}), **kwargs)\n\u001b[0m\u001b[1;32m   2700\u001b[0m     \u001b[0msci\u001b[0m\u001b[0;34m(\u001b[0m\u001b[0m__ret\u001b[0m\u001b[0;34m)\u001b[0m\u001b[0;34m\u001b[0m\u001b[0;34m\u001b[0m\u001b[0m\n\u001b[1;32m   2701\u001b[0m     \u001b[0;32mreturn\u001b[0m \u001b[0m__ret\u001b[0m\u001b[0;34m\u001b[0m\u001b[0;34m\u001b[0m\u001b[0m\n",
            "\u001b[0;32m/usr/local/lib/python3.6/dist-packages/matplotlib/__init__.py\u001b[0m in \u001b[0;36minner\u001b[0;34m(ax, data, *args, **kwargs)\u001b[0m\n\u001b[1;32m   1808\u001b[0m                         \u001b[0;34m\"the Matplotlib list!)\"\u001b[0m \u001b[0;34m%\u001b[0m \u001b[0;34m(\u001b[0m\u001b[0mlabel_namer\u001b[0m\u001b[0;34m,\u001b[0m \u001b[0mfunc\u001b[0m\u001b[0;34m.\u001b[0m\u001b[0m__name__\u001b[0m\u001b[0;34m)\u001b[0m\u001b[0;34m,\u001b[0m\u001b[0;34m\u001b[0m\u001b[0;34m\u001b[0m\u001b[0m\n\u001b[1;32m   1809\u001b[0m                         RuntimeWarning, stacklevel=2)\n\u001b[0;32m-> 1810\u001b[0;31m             \u001b[0;32mreturn\u001b[0m \u001b[0mfunc\u001b[0m\u001b[0;34m(\u001b[0m\u001b[0max\u001b[0m\u001b[0;34m,\u001b[0m \u001b[0;34m*\u001b[0m\u001b[0margs\u001b[0m\u001b[0;34m,\u001b[0m \u001b[0;34m**\u001b[0m\u001b[0mkwargs\u001b[0m\u001b[0;34m)\u001b[0m\u001b[0;34m\u001b[0m\u001b[0;34m\u001b[0m\u001b[0m\n\u001b[0m\u001b[1;32m   1811\u001b[0m \u001b[0;34m\u001b[0m\u001b[0m\n\u001b[1;32m   1812\u001b[0m         inner.__doc__ = _add_data_doc(inner.__doc__,\n",
            "\u001b[0;32m/usr/local/lib/python3.6/dist-packages/matplotlib/axes/_axes.py\u001b[0m in \u001b[0;36mimshow\u001b[0;34m(self, X, cmap, norm, aspect, interpolation, alpha, vmin, vmax, origin, extent, shape, filternorm, filterrad, imlim, resample, url, **kwargs)\u001b[0m\n\u001b[1;32m   5492\u001b[0m                               resample=resample, **kwargs)\n\u001b[1;32m   5493\u001b[0m \u001b[0;34m\u001b[0m\u001b[0m\n\u001b[0;32m-> 5494\u001b[0;31m         \u001b[0mim\u001b[0m\u001b[0;34m.\u001b[0m\u001b[0mset_data\u001b[0m\u001b[0;34m(\u001b[0m\u001b[0mX\u001b[0m\u001b[0;34m)\u001b[0m\u001b[0;34m\u001b[0m\u001b[0;34m\u001b[0m\u001b[0m\n\u001b[0m\u001b[1;32m   5495\u001b[0m         \u001b[0mim\u001b[0m\u001b[0;34m.\u001b[0m\u001b[0mset_alpha\u001b[0m\u001b[0;34m(\u001b[0m\u001b[0malpha\u001b[0m\u001b[0;34m)\u001b[0m\u001b[0;34m\u001b[0m\u001b[0;34m\u001b[0m\u001b[0m\n\u001b[1;32m   5496\u001b[0m         \u001b[0;32mif\u001b[0m \u001b[0mim\u001b[0m\u001b[0;34m.\u001b[0m\u001b[0mget_clip_path\u001b[0m\u001b[0;34m(\u001b[0m\u001b[0;34m)\u001b[0m \u001b[0;32mis\u001b[0m \u001b[0;32mNone\u001b[0m\u001b[0;34m:\u001b[0m\u001b[0;34m\u001b[0m\u001b[0;34m\u001b[0m\u001b[0m\n",
            "\u001b[0;32m/usr/local/lib/python3.6/dist-packages/matplotlib/image.py\u001b[0m in \u001b[0;36mset_data\u001b[0;34m(self, A)\u001b[0m\n\u001b[1;32m    636\u001b[0m         if not (self._A.ndim == 2\n\u001b[1;32m    637\u001b[0m                 or self._A.ndim == 3 and self._A.shape[-1] in [3, 4]):\n\u001b[0;32m--> 638\u001b[0;31m             \u001b[0;32mraise\u001b[0m \u001b[0mTypeError\u001b[0m\u001b[0;34m(\u001b[0m\u001b[0;34m\"Invalid dimensions for image data\"\u001b[0m\u001b[0;34m)\u001b[0m\u001b[0;34m\u001b[0m\u001b[0;34m\u001b[0m\u001b[0m\n\u001b[0m\u001b[1;32m    639\u001b[0m \u001b[0;34m\u001b[0m\u001b[0m\n\u001b[1;32m    640\u001b[0m         \u001b[0;32mif\u001b[0m \u001b[0mself\u001b[0m\u001b[0;34m.\u001b[0m\u001b[0m_A\u001b[0m\u001b[0;34m.\u001b[0m\u001b[0mndim\u001b[0m \u001b[0;34m==\u001b[0m \u001b[0;36m3\u001b[0m\u001b[0;34m:\u001b[0m\u001b[0;34m\u001b[0m\u001b[0;34m\u001b[0m\u001b[0m\n",
            "\u001b[0;31mTypeError\u001b[0m: Invalid dimensions for image data"
          ]
        },
        {
          "output_type": "display_data",
          "data": {
            "image/png": "[encoded data removed]",
            "text/plain": [
              "<Figure size 576x396 with 1 Axes>"
            ]
          },
          "metadata": {
            "tags": []
          }
        }
      ]
    },
    {
      "cell_type": "code",
      "metadata": {
        "id": "qX4XZqYSC1YO"
      },
      "source": [
        "def visualize_model(model, num_images=6):\n",
        "    was_training = model.training\n",
        "    model.eval()\n",
        "    images_so_far = 0\n",
        "    fig = plt.figure()\n",
        "\n",
        "    with torch.no_grad():\n",
        "        for i, (inputs, labels) in enumerate(test_data_c):\n",
        "            inputs = inputs.to(device)\n",
        "            labels = labels.to(device)\n",
        "\n",
        "            outputs = model(inputs)\n",
        "            _, preds = torch.max(outputs, 1)\n",
        "\n",
        "            for j in range(inputs.size()[0]):\n",
        "                images_so_far += 1\n",
        "                ax = plt.subplot(num_images//2, 2, images_so_far)\n",
        "                ax.axis('off')\n",
        "                ax.set_title('predicted: {}'.format(class_names[preds[j]]))\n",
        "                imshow(inputs.cpu().data[j])\n",
        "\n",
        "                if images_so_far == num_images:\n",
        "                    model.train(mode=was_training)\n",
        "                    return\n",
        "        model.train(mode=was_training)"
      ],
      "execution_count": null,
      "outputs": []
    },
    {
      "cell_type": "code",
      "metadata": {
        "id": "crs3igi_Kcqt",
        "outputId": "120d78f2-c6ad-4003-eb0e-da52157a1db9",
        "colab": {
          "base_uri": "https://localhost:8080/",
          "height": 51
        }
      },
      "source": [
        "%ls"
      ],
      "execution_count": null,
      "outputs": [
        {
          "output_type": "stream",
          "text": [
            " \u001b[0m\u001b[01;34mcv\u001b[0m/     \u001b[01;34msample_data\u001b[0m/   \u001b[01;34mtrain\u001b[0m/     'train-scene classification.zip'\n",
            " \u001b[01;34mroot\u001b[0m/   \u001b[01;34mtest\u001b[0m/          train.csv\n"
          ],
          "name": "stdout"
        }
      ]
    },
    {
      "cell_type": "code",
      "metadata": {
        "id": "Ij972NnsJ7wP"
      },
      "source": [
        "class_names = ['buildings',\n",
        " 'forest',\n",
        " 'glacier',\n",
        " 'mountain',\n",
        " 'sea',\n",
        " 'street']"
      ],
      "execution_count": null,
      "outputs": []
    },
    {
      "cell_type": "code",
      "metadata": {
        "id": "AA386BRlKjS9",
        "outputId": "6bd95f47-2213-4387-f70b-ea2a9470ef72",
        "colab": {
          "base_uri": "https://localhost:8080/",
          "height": 119
        }
      },
      "source": [
        "class_dict\n"
      ],
      "execution_count": null,
      "outputs": [
        {
          "output_type": "execute_result",
          "data": {
            "text/plain": [
              "{'buildings': 0,\n",
              " 'forest': 1,\n",
              " 'glacier': 2,\n",
              " 'mountain': 3,\n",
              " 'sea': 4,\n",
              " 'street': 5}"
            ]
          },
          "metadata": {
            "tags": []
          },
          "execution_count": 134
        }
      ]
    },
    {
      "cell_type": "code",
      "metadata": {
        "id": "0nFtEeeaDTY8",
        "outputId": "646e523c-3c1a-43ab-89e2-c646baea51fe",
        "colab": {
          "base_uri": "https://localhost:8080/",
          "height": 821
        }
      },
      "source": [
        "visualize_model(model)"
      ],
      "execution_count": null,
      "outputs": [
        {
          "output_type": "display_data",
          "data": {
            "image/png": "[encoded data removed]",
            "text/plain": [
              "<Figure size 576x396 with 1 Axes>"
            ]
          },
          "metadata": {
            "tags": []
          }
        },
        {
          "output_type": "display_data",
          "data": {
            "image/png": "[encoded data removed]",
            "text/plain": [
              "<Figure size 576x396 with 1 Axes>"
            ]
          },
          "metadata": {
            "tags": []
          }
        },
        {
          "output_type": "display_data",
          "data": {
            "image/png": "[encoded data removed]",
            "text/plain": [
              "<Figure size 576x396 with 1 Axes>"
            ]
          },
          "metadata": {
            "tags": []
          }
        },
        {
          "output_type": "display_data",
          "data": {
            "image/png": "[encoded data removed]",
            "text/plain": [
              "<Figure size 576x396 with 1 Axes>"
            ]
          },
          "metadata": {
            "tags": []
          }
        },
        {
          "output_type": "display_data",
          "data": {
            "image/png": "[encoded data removed]",
            "text/plain": [
              "<Figure size 576x396 with 1 Axes>"
            ]
          },
          "metadata": {
            "tags": []
          }
        },
        {
          "output_type": "display_data",
          "data": {
            "image/png": "[encoded data removed]",
            "text/plain": [
              "<Figure size 576x396 with 1 Axes>"
            ]
          },
          "metadata": {
            "tags": []
          }
        }
      ]
    },
    {
      "cell_type": "code",
      "metadata": {
        "id": "I0fFRsU7JA9X"
      },
      "source": [
        ""
      ],
      "execution_count": null,
      "outputs": []
    }
  ]
}